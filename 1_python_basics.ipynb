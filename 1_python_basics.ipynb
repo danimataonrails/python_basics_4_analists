{
  "cells": [
    {
      "attachments": {},
      "cell_type": "markdown",
      "metadata": {
        "id": "SKtdSET9iZHO"
      },
      "source": [
        "# Python Basics\n",
        "\n",
        "## Objective\n",
        "This notebook will be used as an introduction to the basic concepts in Python.\n",
        "\n",
        "## Free and Open-source\n",
        "Python is developed under an OSI-approved open source license. Hence, it is completely free to use, even for commercial purposes. It doesn't cost anything to download Python or to include it in your application. It can also be freely modified and re-distributed. \n",
        "\n",
        "Python can be downloaded from the official Python website https://www.python.org/.\n",
        "\n",
        "## Simple and expressive\n",
        "It is really easy to code in Python. On the other hand, Python code can be read almost like plain English words.\n",
        "\n",
        "Python needs to use only a few lines of code to perform complex tasks. For example, to display Hello World, you simply need to type one line `print(\"Hello World\")`.\n",
        "\n",
        "## Interpreted and Portable\n",
        "When a programming language is interpreted, it means that the source code is executed line by line, and not all at once.Therefore, here is no need to compile Python because it is processed at runtime by the interpreter. \n",
        "\n",
        "Python code can be used on different machines and environments. You may write a Python code on a Mac and it will run on Windows or Linux without changes.\n",
        "\n",
        "## Object-Oriented and Procedure-Oriented\n",
        "A programming language is object-oriented if it focuses design around data and objects, rather than functions and logic. On the contrary, a programming language is procedure-oriented if it focuses more on functions (code that can be reused). One of the critical Python features is that it supports both object-oriented and procedure-oriented programming.\n",
        "\n",
        "## Reserved words\n",
        "In Python 3.6 the are 33 reserved words:\n",
        "\n",
        "`and as assert break class continue def del elif else except False finally for from global if import in is lambda match None nonlocal not or pass raise return True try while with yield`\n",
        "\n",
        "Remember, **Python code is case sensitive!**\n",
        "\n",
        "## Code indentation\n",
        "**Indentation** refers to the spaces at the beginning of a code line. Where in other programming languages the indentation in code is for readability only, the indentation in Python is very important. Python uses indentation to indicate a **block** of code.\n",
        "\n",
        "## The Zen of Python\n",
        "Go and check https://peps.python.org/pep-0020/"
      ]
    },
    {
      "attachments": {},
      "cell_type": "markdown",
      "metadata": {
        "id": "_qxVpSbf8rqI"
      },
      "source": [
        "## I/O Interaction\n",
        "We use the function ``print()`` to indeed _print_ the value of anything in the screen. To obtain data from the keyboard we use the method ``input()``.\n",
        "\n"
      ]
    },
    {
      "cell_type": "code",
      "execution_count": null,
      "metadata": {
        "id": "yVnYZBJN9ilZ"
      },
      "outputs": [],
      "source": [
        "str = input()\n",
        "print('You said:', str)"
      ]
    },
    {
      "attachments": {},
      "cell_type": "markdown",
      "metadata": {
        "id": "W2IbjN15juh4"
      },
      "source": [
        "## Comments\n",
        "A **comment** is a piece of text that is not executed.\n",
        "In order to add a comment you must use the character # to start an the comment will end at the end of the line.\n",
        "\n",
        "Comments are used to add relevant information to your code, notes, TODOs..."
      ]
    },
    {
      "cell_type": "code",
      "execution_count": null,
      "metadata": {
        "id": "Yja9FSkxiA_W"
      },
      "outputs": [],
      "source": [
        "# This is a COMMENT\n",
        "# A comment is a piece of text that is not executed\n",
        "# You can add comments to clarify your code\n",
        "# TODO: explain this comment"
      ]
    },
    {
      "attachments": {},
      "cell_type": "markdown",
      "metadata": {
        "id": "KECSQFyQm7gZ"
      },
      "source": [
        "##Variables\n",
        "A **variable** is used to store data that will be used in our code. Every variable has a name that consists of letters, numbers, and the underscore character ``_``. \n",
        "\n",
        "Basic **data types** in Python are numbers(integers, floats), strings(texts) and booleans(true, false).\n",
        "\n",
        "The **equal** sign = is used to assign a value to a variable. After the initial assignment is made, the value of a variable can be updated to new values and types.\n",
        "\n",
        "We can use the `print()` to output variables (numbers, texts...) to the console. It takes one or more arguments and will output each of the arguments to the console separated by a space. If no arguments are provided, it will just output a blank line."
      ]
    },
    {
      "cell_type": "code",
      "execution_count": null,
      "metadata": {
        "id": "6usvCg3N86VT"
      },
      "outputs": [],
      "source": [
        "# assign values\n",
        "a_number = 10\n",
        "another_number = 11.59\n",
        "number_6 = 6\n",
        "a_text = \"this is a message to you\"\n",
        "another_text = 'one step beyond'\n",
        "\n",
        "# print values\n",
        "print(a_number)\n",
        "print(another_number)\n",
        "print(number_6)\n",
        "print(a_text)\n",
        "print(another_text)\n",
        "print()"
      ]
    },
    {
      "attachments": {},
      "cell_type": "markdown",
      "metadata": {
        "id": "Rk9G7UieRlLQ"
      },
      "source": [
        "As you may have already noticed, *underscores* are often used for **readability**.\n",
        "```\n",
        "# Readable code\n",
        "first_name = \"Daniel\"\n",
        "last_name = \"di la Matta\"\n",
        "\n",
        "# Somehow readable code\n",
        "firstname = \"Daniel\"\n",
        "lastname = \"di la Matta\"\n",
        "\n",
        "# Non-eadable code\n",
        "a = \"Daniel\"\n",
        "b = \"di la Matta\"\n",
        "```\n",
        "Let's continue..."
      ]
    },
    {
      "cell_type": "code",
      "execution_count": null,
      "metadata": {
        "id": "DQlIJsrDmjiu"
      },
      "outputs": [],
      "source": [
        "# print several items\n",
        "print(\"PI is rounded to\", 3.14159)"
      ]
    },
    {
      "cell_type": "code",
      "execution_count": null,
      "metadata": {
        "id": "vmpwMBVImzTu"
      },
      "outputs": [],
      "source": [
        "# oh shit!\n",
        "print(unassigned_variable)"
      ]
    },
    {
      "attachments": {},
      "cell_type": "markdown",
      "metadata": {
        "id": "SPprHAsNQUDn"
      },
      "source": [
        "As you can see, in Python, the data type is set when you **assign** a value to a variable. The `type()` will show the data type."
      ]
    },
    {
      "cell_type": "code",
      "execution_count": null,
      "metadata": {
        "id": "Y51kntSGQsC4"
      },
      "outputs": [],
      "source": [
        "# reassign value and type\n",
        "a = 11\n",
        "print(type(a), a)\n",
        "a = 11.0\n",
        "print(type(a), a)\n",
        "a = \"11\"\n",
        "print(type(a), a)"
      ]
    },
    {
      "attachments": {},
      "cell_type": "markdown",
      "metadata": {
        "id": "YvxTqGbtY7EM"
      },
      "source": [
        "##Let's play!\n",
        "Create a few variables to contain the data of your new car (real or fake): \n",
        "- brand name\n",
        "- model\n",
        "- year\n",
        "- plate number\n",
        "- number of cylinders\n",
        "- oil consumption in liters every 100 km\n",
        "\n",
        "Finally, print all of them in a paragraph like this:\n",
        "\n",
        "*My car is a [year] [brand name] [model name]. It has [number of cylinders] cylinders and it consumes [] liters every 100km. My car plate number is \"[plate number]\".*\n",
        "\n"
      ]
    },
    {
      "cell_type": "code",
      "execution_count": null,
      "metadata": {
        "id": "yJOY5HblZHtV"
      },
      "outputs": [],
      "source": [
        "# Let's play: write your code here"
      ]
    },
    {
      "attachments": {},
      "cell_type": "markdown",
      "metadata": {
        "id": "6tuaQ8kuU2tw"
      },
      "source": [
        "#Operations\n",
        "Let's start dealing with data."
      ]
    },
    {
      "attachments": {},
      "cell_type": "markdown",
      "metadata": {
        "id": "5pk2As7QDI_i"
      },
      "source": [
        "##Operating with Numbers\n",
        "Any arithmetic operation can be easily executed with Python: adding, substracting, multiplying and dividing are implemented under its symbol. Other operations such as modulus or potentiation have special symbols."
      ]
    },
    {
      "cell_type": "code",
      "execution_count": null,
      "metadata": {
        "id": "W6k0oTsGRic7"
      },
      "outputs": [],
      "source": [
        "print(\"adding 1 and 1 is \", 1 + 1)\n",
        "print(5 - 2)\n",
        "print(4 * 3)\n",
        "print(5 / 2)\n",
        "print(5 // 2)\n",
        "print(5 ** 2)\n",
        "print(5 ** (1/2))\n",
        "print(5 % 2)"
      ]
    },
    {
      "attachments": {},
      "cell_type": "markdown",
      "metadata": {
        "id": "AagLgDQ9R6_x"
      },
      "source": [
        "Some operations are included in the `Math` built-in module. To use them you must import the module and the place the name of the module before the function separated with a dot `.`. \n",
        "\n",
        "A full list of functions and constants included in the `Math` module can be found in https://www.w3schools.com/python/module_math.asp."
      ]
    },
    {
      "cell_type": "code",
      "execution_count": null,
      "metadata": {
        "id": "iaBjWg3qTJtA"
      },
      "outputs": [],
      "source": [
        "import math\n",
        "\n",
        "print(math.sqrt(4.0))\n",
        "print(math.log(math.e ** 6.5))"
      ]
    },
    {
      "attachments": {},
      "cell_type": "markdown",
      "metadata": {
        "id": "u1k39q0yR2Tg"
      },
      "source": [
        "Some other cool inline operations..."
      ]
    },
    {
      "cell_type": "code",
      "execution_count": null,
      "metadata": {
        "id": "Xzs0W5k1SZBM"
      },
      "outputs": [],
      "source": [
        "# increment\n",
        "a = 19\n",
        "a += 1\n",
        "print(a)\n",
        "\n",
        "# decrement\n",
        "a -= 5\n",
        "print(a)\n",
        "\n",
        "# multiply\n",
        "a *= 2\n",
        "print(a)\n",
        "\n",
        "# divide\n",
        "a /= 9\n",
        "print(a)"
      ]
    },
    {
      "attachments": {},
      "cell_type": "markdown",
      "metadata": {
        "id": "pp4OnmWhDQUV"
      },
      "source": [
        "##Operating with Strings\n",
        "There is a lot of things that can be done with **strings** and Python provides a set of built-in methods that you can use on them. A full list of these functions can be found in https://www.w3schools.com/python/python_ref_string.asp.\n",
        "\n",
        "Strings are **objects**. Python considers `0` as the first position in a string. Some useful string methods are the following:\n",
        "- `len()` is a general purpose function that will return the size of a string.However, `count()` will return the number of occurrences of a given value within the string and `replace()` will return a string where a specified value is replaced with another specified value.\n",
        "- `upper()` will convert a string into upper case while `lower()` will convert it to lower case; `swapcase()` will change the case of each character, `capitalize()` will convert the first character to capital case and `title()` will convert the first character of each word to upper case.\n",
        "- `find()` and `index()` searches the string for a specified value and returns the position of where it was found while `rfind()` and `rindex()` will do the same from right to left; `startswith()` will return a boolean specifying whether a string starts with a values and `endswith()` will do the same with an ending value.\n",
        "\n",
        "Strings can be concatenated using `+` operator and multiplied by an integer resulting in as many repetitions of its value as specified.\n"
      ]
    },
    {
      "cell_type": "code",
      "execution_count": null,
      "metadata": {
        "id": "ejD53E4Fq0uJ"
      },
      "outputs": [],
      "source": [
        "# general purpose functions\n",
        "str = \"the United KingdoM\"\n",
        "\n",
        "print(len(str))\n",
        "print(str.count('n'))\n",
        "print(str.replace('e', 'EEE'))"
      ]
    },
    {
      "cell_type": "code",
      "execution_count": null,
      "metadata": {
        "id": "NmC5j-8InNV0"
      },
      "outputs": [],
      "source": [
        "# case functions\n",
        "str = \"follow the LEADER\"\n",
        "\n",
        "print(str.capitalize())\n",
        "print(str.upper())\n",
        "print(str.lower())\n",
        "print(str.swapcase())\n",
        "print(str.title())"
      ]
    },
    {
      "cell_type": "code",
      "execution_count": null,
      "metadata": {
        "id": "8tAyp2u-nWJr"
      },
      "outputs": [],
      "source": [
        "# position functions\n",
        "str = \"the Mountain 5\"\n",
        "\n",
        "print(str.find('n'))\n",
        "print(str.rindex('n'))\n",
        "print(str.find('456'))\n",
        "print(str.startswith('THE'))\n",
        "print(str.endswith('5'))\n",
        "print()\n",
        "\n",
        "# but also\n",
        "print('Mount' in str)\n",
        "print('The' in str)"
      ]
    },
    {
      "cell_type": "code",
      "execution_count": null,
      "metadata": {
        "id": "J-xJrJ3gnhw4"
      },
      "outputs": [],
      "source": [
        "# strings and numbers\n",
        "str = \"London and Leeds\"\n",
        "\n",
        "print(str + \" are the UK\")\n",
        "print(str * 3)\n"
      ]
    },
    {
      "attachments": {},
      "cell_type": "markdown",
      "metadata": {
        "id": "-KK8Vha0DdB4"
      },
      "source": [
        "##Operating with Booleans\n",
        "Python booleans can only have two possible values:\n",
        "- `True`\n",
        "- `False`\n",
        "\n",
        "They are considered **numeric** (0, 1) and can be operated either numerically or logically.\n",
        "\n",
        "Booleans are also the result of **equalities** and **inequalities**.\n",
        "\n",
        "You can find more information about Python booleans in https://realpython.com/python-boolean/."
      ]
    },
    {
      "cell_type": "code",
      "execution_count": null,
      "metadata": {
        "id": "KlT75b5j4WEd"
      },
      "outputs": [],
      "source": [
        "# numeric\n",
        "print(True + True)\n",
        "print(False - True)"
      ]
    },
    {
      "cell_type": "code",
      "execution_count": null,
      "metadata": {
        "id": "6QWBYzMRn-Um"
      },
      "outputs": [],
      "source": [
        "# logical\n",
        "print(not True)\n",
        "print(True and False)\n",
        "print(True or False)\n",
        "print(True ^ False)"
      ]
    },
    {
      "cell_type": "code",
      "execution_count": null,
      "metadata": {
        "id": "cRrCfa83n-Xj"
      },
      "outputs": [],
      "source": [
        "# comparissons\n",
        "print(1 == 1)\n",
        "print('a' == 'A')\n",
        "print(1 != 1.0)\n",
        "print(1 >= 3)\n",
        "print('abc' <= 'cde')"
      ]
    },
    {
      "attachments": {},
      "cell_type": "markdown",
      "metadata": {
        "id": "Qj2SqPONmk4Z"
      },
      "source": [
        "##Casting\n",
        "*Casting*, also known as type conversion, is a process that converts a variable's **data type** into another data type. These conversions can be **implicit** (automatically interpreted) or **explicit** (using built-in functions).\n",
        "\n",
        "The functions ``str()``, ``int()``, ``float()`` and ``bool()`` explictly try to convert whatever the get as an argument."
      ]
    },
    {
      "cell_type": "code",
      "execution_count": 8,
      "metadata": {
        "colab": {
          "base_uri": "https://localhost:8080/"
        },
        "id": "IhV270qAnmIQ",
        "outputId": "1652d962-c4d5-44c6-ddae-119d7eea17f1"
      },
      "outputs": [
        {
          "name": "stdout",
          "output_type": "stream",
          "text": [
            "3.1\n",
            "3\n",
            "\n",
            "False\n",
            "2\n",
            "1.4\n",
            "True\n",
            "False\n"
          ]
        }
      ],
      "source": [
        "# implicit cast\n",
        "a = 2\n",
        "print(a + 1.1)\n",
        "print(a + True)\n",
        "print()\n",
        "\n",
        "# explicit cast\n",
        "print(str(False))\n",
        "print(int(2.9))\n",
        "print(float(\"1.4\"))\n",
        "print(bool('False'))\n",
        "print(bool(0))"
      ]
    },
    {
      "attachments": {},
      "cell_type": "markdown",
      "metadata": {
        "id": "VERq9-vml3HA"
      },
      "source": [
        "##Let's play!\n",
        "Write some Python code to ask for the birth year of the user and print back his/her age."
      ]
    },
    {
      "cell_type": "code",
      "execution_count": null,
      "metadata": {
        "id": "dpi0sOhzl9_3"
      },
      "outputs": [],
      "source": [
        "# Let's play: write your code here"
      ]
    },
    {
      "attachments": {},
      "cell_type": "markdown",
      "metadata": {
        "id": "vF3_3QwSVGPS"
      },
      "source": [
        "#Complex data types"
      ]
    },
    {
      "attachments": {},
      "cell_type": "markdown",
      "metadata": {
        "id": "pKQlKKo8bfDy"
      },
      "source": [
        "## Lists\n",
        "In Python, lists are ordered collections of items.\n",
        "\n",
        "There are several ways to create a list; the most common is using the `[]` sintax. \n",
        "\n",
        "\n",
        "Python lists can contain any type of data and can be nested to build matrixes."
      ]
    },
    {
      "cell_type": "code",
      "execution_count": null,
      "metadata": {
        "id": "v1COnPCnDOFP"
      },
      "outputs": [],
      "source": [
        "my_number_list = [1, 2, 3, 4]\n",
        "my_string_list = ['abc', \"cbs\", 'nbc']\n",
        "my_mixed_list = [123, \"hello\", None]\n",
        "my_2d_matrix = [[1, 2, 3], [4, 5, 6], [7, 8, 9]]\n",
        "\n",
        "print(my_number_list)\n",
        "print(my_string_list)\n",
        "print(my_mixed_list)\n",
        "print(my_2d_matrix)"
      ]
    },
    {
      "attachments": {},
      "cell_type": "markdown",
      "metadata": {
        "id": "QHywKy61C-xr"
      },
      "source": [
        "Python lists are indexed from 0 and negative number can be used to access the last elements in the list."
      ]
    },
    {
      "cell_type": "code",
      "execution_count": null,
      "metadata": {
        "id": "hpsjJEqDEp67"
      },
      "outputs": [],
      "source": [
        "my_vowels = ['a', 'e', 'i', 'o', 'u']\n",
        "print(my_vowels[0])\n",
        "print(my_vowels[4])\n",
        "# next line is an error; uncomment and execute\n",
        "# print(my_vowels[5])\n",
        "print(my_vowels[-1])\n",
        "print(my_vowels[-5])\n",
        "# next line is an error; uncomment and execute\n",
        "# print(my_vowels[-6])\n"
      ]
    },
    {
      "attachments": {},
      "cell_type": "markdown",
      "metadata": {
        "id": "FrNNH4lIC-_N"
      },
      "source": [
        "Lists can be easily modified by adding new elements or removing existing ones:\n",
        "- ``append()`` will add an element at the end of the list\n",
        "- ``insert()`` will add an element at the specified position\n",
        "- ``pop()`` will remove an element at the specified position\n",
        "- ``remove()`` will remove the first element with the given value\n",
        "- ``clear()`` will empty the list\n",
        "\n",
        "Lists can be joined together using the ``+`` operator."
      ]
    },
    {
      "cell_type": "code",
      "execution_count": null,
      "metadata": {
        "id": "HMEDChVfT7M-"
      },
      "outputs": [],
      "source": [
        "my_list = ['Leslie', 'Karen']\n",
        "print(my_list)\n",
        "my_list.append('Amy')\n",
        "print(my_list)\n",
        "my_list.insert(1, 'Patsy')\n",
        "print(my_list)\n",
        "my_list.pop(2)\n",
        "print(my_list)\n",
        "my_list.append('Leslie')\n",
        "print(my_list)\n",
        "my_list.remove('Leslie')\n",
        "print(my_list)\n",
        "my_list.clear()\n",
        "print(my_list)\n",
        "print()\n",
        "\n",
        "join = [1, 2] + [3, 4]\n",
        "print(join)\n"
      ]
    },
    {
      "attachments": {},
      "cell_type": "markdown",
      "metadata": {
        "id": "D9O1x-pVZCr8"
      },
      "source": [
        "Other list commonly used methods are:\n",
        "- ``count()`` returns the number of mathing elements in the list \n",
        "- ``index()`` returns the index of the first element with the specified value or ``-1`` if not found\n",
        "- ``reverse()`` reverses the order of the list\n",
        "- ``sort()`` sorts the elements in the list\n"
      ]
    },
    {
      "cell_type": "code",
      "execution_count": null,
      "metadata": {
        "id": "IQhbkzIfZ2AZ"
      },
      "outputs": [],
      "source": [
        "primes = [1, 2, 3, 5, 7, 11]\n",
        "print(primes)\n",
        "print(primes.count(3))\n",
        "print(len(primes))\n",
        "print(primes.index(5))\n",
        "primes.reverse()\n",
        "print(primes)\n",
        "print()\n",
        "\n",
        "# library for radomizing objects (we will see this later)\n",
        "import random\n",
        "random.shuffle(primes)\n",
        "print(primes)\n",
        "print()\n",
        "\n",
        "primes.sort()\n",
        "print(primes)\n",
        "print()"
      ]
    },
    {
      "attachments": {},
      "cell_type": "markdown",
      "metadata": {
        "id": "SxVfqUqKp1vt"
      },
      "source": [
        "There are two special types of lists:\n",
        "- Tuples, created with ``()``. Items are ordered, unchangeable, and allow duplicate values.\n",
        "\n",
        "\n",
        "> ``my_tuple = ('a', 'b', 'c')``\n",
        "\n",
        "\n",
        "- Sets, created with ``{}``. Items are unordered, unchangeable, and do not allow duplicate values.\n",
        "\n",
        "> ``my_set = {'a', 'b', 'c'}``\n"
      ]
    },
    {
      "attachments": {},
      "cell_type": "markdown",
      "metadata": {
        "id": "eCp1kBgacsDF"
      },
      "source": [
        "## Dictionaries\n",
        "Python dictionaries are used to store data values in `key:value` pairs. Dictionaries items are ordered, changeable and duplicated keys are not allowed.\n",
        "\n",
        "There are several ways to create a list; the most common is using the ``{}`` sintax.\n",
        "\n",
        "Dictionaries can contain any type of data and can be nested, meaning that in a ``key:value`` pair, a dictionary is a valid value. However, only integers, floats, strings and booleans are valid keys."
      ]
    },
    {
      "cell_type": "code",
      "execution_count": null,
      "metadata": {
        "id": "MXcbyHzycqz-"
      },
      "outputs": [],
      "source": [
        "my_dictionary = {\n",
        "  \"key1\": \"value1\",\n",
        "  \"key2\": 222,\n",
        "  3: True,\n",
        "  False: None,\n",
        "  \"lists\": {\n",
        "    \"list1\": [1, 2, 3],\n",
        "    \"list2\": []\n",
        "  }\n",
        "}\n",
        "print(my_dictionary)"
      ]
    },
    {
      "attachments": {},
      "cell_type": "markdown",
      "metadata": {
        "id": "S3u9acFL1a8P"
      },
      "source": [
        "Brackets ``[]`` can be used either to access a dictionary's item or to add a new ``key:value`` pair. The method ``get()`` can be used to read the value of a key. The method ``update()`` will update the dictionary with the items from the given argument.\n",
        "\n",
        "The method ``keys()`` will return a list of all the keys in a ditionary while the method ``values()`` will return a list af all its values."
      ]
    },
    {
      "cell_type": "code",
      "execution_count": null,
      "metadata": {
        "id": "4AtG3-SA4Hh5"
      },
      "outputs": [],
      "source": [
        "my_dictionary = {\n",
        "  \"key1\": 111,\n",
        "  \"key2\": 222\n",
        "}\n",
        "print(my_dictionary)\n",
        "print(my_dictionary[\"key1\"])\n",
        "print(my_dictionary.get(\"key2\"))\n",
        "print()\n",
        "my_dictionary[\"key3\"] = 333\n",
        "my_dictionary[\"empty\"] = None\n",
        "print(my_dictionary)\n",
        "my_dictionary.update({\"empty\": 0, \"key1\": 111111, \"key10\": 10})\n",
        "print(my_dictionary)\n",
        "print()\n",
        "print(my_dictionary.keys())\n",
        "print(my_dictionary.values())\n"
      ]
    },
    {
      "attachments": {},
      "cell_type": "markdown",
      "metadata": {
        "id": "S6f4sccv6y63"
      },
      "source": [
        "There are two methods to remove items from a ditionary:\n",
        "- ``pop()`` will remove the element with the specified key\n",
        "- ``lear()`` will remove all the elements from the dictionary"
      ]
    },
    {
      "cell_type": "code",
      "execution_count": null,
      "metadata": {
        "id": "VLxKWllb7J0Q"
      },
      "outputs": [],
      "source": [
        "my_dictionary = {\n",
        "  1: 'one',\n",
        "  2: 'two',\n",
        "  3: 'three'\n",
        "}\n",
        "print(my_dictionary)\n",
        "print()\n",
        "print(my_dictionary.pop(2))\n",
        "print(my_dictionary)\n",
        "print()\n",
        "my_dictionary.clear()\n",
        "print(my_dictionary)\n"
      ]
    },
    {
      "attachments": {},
      "cell_type": "markdown",
      "metadata": {
        "id": "husBjMeXVgaj"
      },
      "source": [
        "#Code flow"
      ]
    },
    {
      "attachments": {},
      "cell_type": "markdown",
      "metadata": {
        "id": "cZ8pnrc7VXRX"
      },
      "source": [
        "##Code Indentation\n",
        "**Python uses indentation to identify blocks of code.** Code within the same block should be indented at the same level."
      ]
    },
    {
      "attachments": {},
      "cell_type": "markdown",
      "metadata": {
        "id": "UdxIiGkkpIBB"
      },
      "source": [
        "## Conditions\n",
        "The basic statement to control the flow of a Python program is the ``if`` statement. It is used along with logical conditions and boolean values.\n"
      ]
    },
    {
      "attachments": {},
      "cell_type": "markdown",
      "metadata": {
        "id": "LGCKHTz4i93C"
      },
      "source": [
        "### If statement\n",
        "The complete sintax is:\n",
        "```\n",
        "if condition 1:\n",
        "  # code 1\n",
        "elif condition 2:\n",
        "  # code 2\n",
        "elif condition 3:\n",
        "  # code 3\n",
        "...\n",
        "else:\n",
        "  # default code\n",
        "```\n",
        "where ``code 1`` will be executed when ``condition 1`` is evaluated to ``True``. Otherwise, ``code 2`` will be executed when ``condition 2`` is evaluated to ``True``. Otherwise, ``code 3`` will be executed when ``condition 3`` is evaluated to ``True``... and so on. Finally, ``default code`` will be executed if all the previous conditions are evaluated to ``False``.\n",
        "\n",
        "``elif`` and ``else`` blocks may be missing if they are not necessary in our code.\n",
        "\n",
        "Conditions can be as simple as a boolean value, an equality or inequality, or a logical operation as explained in the *Operating with Booleans* section."
      ]
    },
    {
      "cell_type": "code",
      "execution_count": null,
      "metadata": {
        "colab": {
          "base_uri": "https://localhost:8080/"
        },
        "id": "FrREfwJSKOCO",
        "outputId": "88426092-a9de-48b1-d866-2a307fa0c229"
      },
      "outputs": [
        {
          "name": "stdout",
          "output_type": "stream",
          "text": [
            "0 is Zero\n"
          ]
        }
      ],
      "source": [
        "# change x value to try different flows\n",
        "x = 0\n",
        "if x == 0:\n",
        "  print(x, 'is Zero')\n",
        "elif x % 2 == 0:\n",
        "  print(x, 'is Even')\n",
        "else:\n",
        "  print(x, 'is Odd')\n"
      ]
    },
    {
      "attachments": {},
      "cell_type": "markdown",
      "metadata": {
        "id": "yKcdUKtBK7DA"
      },
      "source": [
        "If statements can be nested if necessary or combined along with other control flow statements."
      ]
    },
    {
      "attachments": {},
      "cell_type": "markdown",
      "metadata": {
        "id": "cLHXRsKbKOTT"
      },
      "source": [
        "### Match statement\n",
        "With Python 3.10, when comparing just a value we can simplifly the program flow with ``match``. The sintax is\n",
        "```\n",
        "match expression:\n",
        "  case value1:\n",
        "    # code 1\n",
        "  case value2:\n",
        "    # code 2\n",
        "  case value3 | value4 | ... | valueN:\n",
        "    # code 3\n",
        "  case _:\n",
        "    # default code\n",
        "```\n",
        "where ``code 1`` will be executed if ``expression`` mathes ``value1``. If it matches ``value 2`` then ``code 2`` will be executed. If any value in the expression ``value3 | value4 | ... | valueN`` is matched then ``code 3`` will be executed. And in case none of the values above are matched, the program will execute ``default code``."
      ]
    },
    {
      "cell_type": "code",
      "execution_count": null,
      "metadata": {
        "id": "gqU-yvjef4I6"
      },
      "outputs": [],
      "source": [
        "# change the value of color to try different flows (it will not work since this is Python 3.7)\n",
        "color = 'green'\n",
        "match color:\n",
        "  case 'red':\n",
        "    print(\"It's a primary color!\")\n",
        "  case 'yellow':\n",
        "    print(\"It's a primary color!\")\n",
        "  case 'blue':\n",
        "    print(\"It's a primary color!\")\n",
        "  case 'green' | 'orange' | 'purple':\n",
        "    print(\"It's a secondary color!\")\n",
        "  case _:\n",
        "    print(\"It's a mixed color!\")"
      ]
    },
    {
      "attachments": {},
      "cell_type": "markdown",
      "metadata": {
        "id": "LepYA5WLI3I6"
      },
      "source": [
        "### Ternary operators\n",
        "Ternary operators,commonly known as conditional expressions, evaluate something based on a condition being true or not in one line."
      ]
    },
    {
      "cell_type": "code",
      "execution_count": null,
      "metadata": {
        "id": "gOkZD5rBjJly"
      },
      "outputs": [],
      "source": [
        "# instead of \n",
        "value = 10\n",
        "if value % 2 == 0:\n",
        "  value_status = \"even\"\n",
        "else:\n",
        "  value_status = \"odd\"\n",
        "\n",
        "print(value, 'is', value_status)\n",
        "print()\n",
        "\n",
        "# we can write\n",
        "value = 3\n",
        "value_status = \"even\" if value % 2 == 0 else \"odd\"\n",
        "print(value, 'is', value_status)\n",
        "print()\n",
        "\n",
        "# or we can write\n",
        "value = 53\n",
        "print(value, 'is', \"even\" if value % 2 == 0 else \"odd\")"
      ]
    },
    {
      "attachments": {},
      "cell_type": "markdown",
      "metadata": {
        "id": "N1F3QqpqpPpT"
      },
      "source": [
        "## Loops\n",
        "Loops are useful when we need to execute a block of code repeatedly. In Python, there are two ways to execute code in loops:\n",
        "- when our code needs to be executed a fixed number of times, a ``for statement`` is what we need.\n",
        "- on the other hand, when our code needs to be executed repeatedly depending on some condition, a ``while statement`` is a better choice. "
      ]
    },
    {
      "attachments": {},
      "cell_type": "markdown",
      "metadata": {
        "id": "jQW1qlMol14u"
      },
      "source": [
        "### For loops\n",
        "A ``for loop`` is used to iterate over a sequence of values. These values can be stored in a List, a Dictionary, a String or a Range.\n",
        "\n",
        "A Range is sequence of numbers with a start, an end and, optionally, a step. The sintax to create a range is\n",
        "\n",
        "``range(start, end, step)``"
      ]
    },
    {
      "cell_type": "code",
      "execution_count": null,
      "metadata": {
        "colab": {
          "base_uri": "https://localhost:8080/"
        },
        "id": "qdumGkc3pgRC",
        "outputId": "548fd66a-91f3-4847-9fbc-ac79443204b6"
      },
      "outputs": [
        {
          "name": "stdout",
          "output_type": "stream",
          "text": [
            "[0, 1, 2, 3, 4]\n",
            "[1, 2, 3, 4]\n",
            "[0, 2, 4, 6, 8]\n"
          ]
        }
      ],
      "source": [
        "print(list(range(5)))\n",
        "print(list(range(1,5)))\n",
        "print(list(range(0, 10, 2)))"
      ]
    },
    {
      "attachments": {},
      "cell_type": "markdown",
      "metadata": {
        "id": "yZ40Z3qrqnz_"
      },
      "source": [
        "The sintax to create a ``for loop`` is\n",
        "```\n",
        "for variable_name in sequence:\n",
        "  # code to be repeated\n",
        "else:\n",
        "  # code to execute at the end\n",
        "```\n",
        "The ``else`` block is optional."
      ]
    },
    {
      "cell_type": "code",
      "execution_count": null,
      "metadata": {
        "id": "LN2qZJGIrG7Z"
      },
      "outputs": [],
      "source": [
        "# loop on a range\n",
        "for x in range(0, 9, 3):\n",
        "  print(x)"
      ]
    },
    {
      "cell_type": "code",
      "execution_count": null,
      "metadata": {
        "id": "rEBfPI5JYdWm"
      },
      "outputs": [],
      "source": [
        "# loop on a list\n",
        "for x in [0, 'a', None, 7/9]:\n",
        "  print(x)"
      ]
    },
    {
      "cell_type": "code",
      "execution_count": null,
      "metadata": {
        "id": "v-wxCDgfYx8S"
      },
      "outputs": [],
      "source": [
        "# loop on a dictionary\n",
        "dict = {\"key 1\": 111, \"key 2\": 222, \"key 3\": 333}\n",
        "for x in dict:\n",
        "  print(x, \"->\", dict[x])\n",
        "else:\n",
        "  print(\"No more Data!\")"
      ]
    },
    {
      "attachments": {},
      "cell_type": "markdown",
      "metadata": {
        "id": "TsOazSxEYC5Q"
      },
      "source": [
        "There are three reserved words that we need to know to fully control loop flow:\n",
        "- ``continue`` will skip the rest of the current iteration of the loop and the control flow of the program will go to the next iteration.\n",
        "- ``break`` will terminate the loop and skip the ``else`` blocked if defined.\n",
        "- ``pass`` will do nothing and it is usually used as a placeholder for future code."
      ]
    },
    {
      "cell_type": "code",
      "execution_count": null,
      "metadata": {
        "id": "WY0yuKz8br_d"
      },
      "outputs": [],
      "source": [
        "# print even numbers in the 20's and 50's on a range between 0 and 99\n",
        "# uncomment print statements to understand the difference between continue and pass\n",
        "for x in range(99):\n",
        "  if x >= 20 and x <= 29:\n",
        "    if x % 2 == 0:\n",
        "      print(x)\n",
        "    else:\n",
        "      continue\n",
        "      # print('Continue')\n",
        "  elif x in range(50, 59):\n",
        "    if x % 2 == 0:\n",
        "      print(x)\n",
        "    else:\n",
        "      pass\n",
        "      # print('Pass')\n",
        "  elif x >= 60:\n",
        "    break\n",
        "else:\n",
        "  print(\"End!\")\n"
      ]
    },
    {
      "attachments": {},
      "cell_type": "markdown",
      "metadata": {
        "id": "ifvdoZu3l1q7"
      },
      "source": [
        "### While loops\n",
        "A ``while loop`` is used to run a block code until a certain condition is met.\n",
        "\n",
        "The sintax to create a ``while loop`` is\n",
        "```\n",
        "while condition:\n",
        "  # code to be repeated\n",
        "  else:\n",
        "  # code to execute at the end\n",
        "```\n",
        "The ``else`` block is optional.\n",
        "\n",
        "The `code` inside the loop will be executed as long as ``condition`` evaluates to ``True`` and it will stop the first time it eveluates to ``False``.\n",
        "\n",
        "As in a ``for loop``, you can use ``continue``, ``break`` and ``pass`` to skip, terminate or do nothing inside the loop.\n",
        "\n",
        "**Be careful with your conitions!** You could cause and *infinite loop*. "
      ]
    },
    {
      "cell_type": "code",
      "execution_count": null,
      "metadata": {
        "id": "o62rZzuwjz8u"
      },
      "outputs": [],
      "source": [
        "# print even numbers in the 20's and 50's\n",
        "# uncomment print statements to understand the continue statement and the importance of a good control flow\n",
        "x = 0\n",
        "while x < 99:\n",
        "  if x >= 20 and x <= 29:\n",
        "    if x % 2 == 0:\n",
        "      print(x)\n",
        "    # else:\n",
        "    #   continue\n",
        "  elif x in range(50, 59):\n",
        "    if x % 2 == 0:\n",
        "      print(x)\n",
        "  x = x + 1\n",
        "else:\n",
        "  print(\"End!\")"
      ]
    },
    {
      "attachments": {},
      "cell_type": "markdown",
      "metadata": {
        "id": "SwsXQkU9WCI9"
      },
      "source": [
        "##Errors\n",
        "The Python interpreter will report the errors present in your code. In fact, he interpreter will try to display the line of code where the error was detected and place a caret character `^` under the portion of the code where the error was detected.\n",
        "\n",
        "The two most common errors are:\n",
        "\n",
        "- `SyntaxError` will be reported when some portion of the code is **incorrect**. This can include misspelled keywords, missing or too many brackets or parentheses, incorrect operators, missing or too many quotation marks...\n",
        "\n",
        "- `NameError` will be reported when the interpreter detects a variable that is **unknown**. This may occur when a variable is used before it has been assigned a value or if a variable name is spelled differently than the point at which it was defined.\n",
        "\n",
        "You can find a list of Python Built-in error types in https://www.tutorialsteacher.com/python/error-types-in-python\n"
      ]
    },
    {
      "cell_type": "code",
      "execution_count": null,
      "metadata": {
        "id": "hM_CCl84WJQV"
      },
      "outputs": [],
      "source": [
        "# uncomment just one line to show errors\n",
        "# shoot(1)\n",
        "# print(b)\n",
        "# print 10"
      ]
    },
    {
      "attachments": {},
      "cell_type": "markdown",
      "metadata": {
        "id": "FpTUVayNWNow"
      },
      "source": [
        "However, errors (also called **exceptions**) can be handled in our code with a `try` and `except` block. \n",
        "\n",
        "The complete syntax looks as follows:\n",
        "```\n",
        "try:\n",
        "    # our code\n",
        "except:\n",
        "    # code to be executed when error occurs in try block\n",
        "else:\n",
        "    # code to be executed if try block is error-free\n",
        "finally:\n",
        "    # code to be executed whether an exception occured or not\n",
        "```\n",
        "Different error types can be handled individually. \n",
        "```\n",
        "try:\n",
        "    # our code\n",
        "except ErrorType1:\n",
        "    # code to be executed when Error Type 1 occurs in try block\n",
        "except ErrorType2:\n",
        "    # code to be executed when Error Type 2 occurs in try block\n",
        "except:\n",
        "    # code to be executed when other error occurs in try block\n",
        "```\n",
        "**Important**: Syntax Errors cannot be handled!"
      ]
    },
    {
      "cell_type": "code",
      "execution_count": null,
      "metadata": {
        "id": "rvlUy3gJWS31"
      },
      "outputs": [],
      "source": [
        "try:\n",
        "  a = 1\n",
        "# uncomment each line to see different behaviours \n",
        "#  prin b)\n",
        "#  print(b)\n",
        "#  print(a)\n",
        "#  print(a/0)\n",
        "except NameError:\n",
        "  print('A NameError exception was found but, never mind, I got it.')\n",
        "except:\n",
        "  print('Some error occurred but it is out of controooooool...')\n",
        "else:\n",
        "  print('No errors were found. Yeeeeehaw!')\n",
        "finally:\n",
        "  print('This is the end of the world as we know it') "
      ]
    },
    {
      "attachments": {},
      "cell_type": "markdown",
      "metadata": {
        "id": "Qd2sMMLvs7co"
      },
      "source": [
        "## Let's play\n",
        "Write some Python code that asks the user the following questions:\n",
        "```\n",
        "What is the current temperature?\n",
        "(C)elsius os (F)arenheit?\n",
        "```\n",
        "Given that \n",
        "\n",
        "_celsius = (farenheit - 32) * 5/9_\n",
        "\n",
        "and \n",
        "\n",
        "_farenheit = celsius * 9/5 + 32_\n",
        "\n",
        "The program should admit a ``C`` or ``c`` for Celsius and an ``F`` or ``f`` for Farenheit.\n",
        "\n",
        "Temperature must be calculated in Fahrenheit when given in Celsius and vice versa. It must be returned in a message similar to this:\n",
        "```\n",
        "That's [conversion] in [converted_to]!\n",
        "```\n",
        "If an error occurs, the program should not crash and end up showing the fllowing message.\n",
        "```\n",
        "So sorry! There was an error.\n",
        "```\n"
      ]
    },
    {
      "cell_type": "code",
      "execution_count": null,
      "metadata": {
        "id": "kuxDywWvuemu"
      },
      "outputs": [],
      "source": [
        "# Write your code here"
      ]
    },
    {
      "attachments": {},
      "cell_type": "markdown",
      "metadata": {
        "id": "XzmiEUMFpR-d"
      },
      "source": [
        "# Functions\n",
        "\n",
        "Functions are pieces of code that are defined only once to be used as many times as necessary. They are defined using the word ``def`` and they may accept parameters, providing data input to the function. Functions may also return a value using the ``return`` keyword followed by the value to be returned.\n",
        "\n",
        "The syntax to define a function is\n",
        "```\n",
        "def function_name(parameter1, parameter2, ...):\n",
        "  #code to be executed\n",
        "  return value_to_be_returned1, value_to_be_returned2, ... \n",
        "```\n",
        "where parameters and the ``return`` statement are optional.\n",
        "\n",
        "After defined, a function needs to be *called* to be used. In order to call a function you can just write its name, followed by parentheses and the values you provide for the parameters."
      ]
    },
    {
      "cell_type": "code",
      "execution_count": null,
      "metadata": {
        "id": "KQBcEsD8K0hh"
      },
      "outputs": [],
      "source": [
        "# let's define a function to sum two numbers\n",
        "def sum(a, b):\n",
        "  return a + b\n",
        "\n",
        "# let's call the sum function; TRY different parameters and even remove one of them to see what happens\n",
        "c = sum(10, 24)\n",
        "print(c)"
      ]
    },
    {
      "attachments": {},
      "cell_type": "markdown",
      "metadata": {
        "id": "VDiC8FK4KWgK"
      },
      "source": [
        "Arguments may have a default value. We need to add a ``=`` after the parameter and the default value.\n",
        " "
      ]
    },
    {
      "cell_type": "code",
      "execution_count": null,
      "metadata": {
        "id": "cFcvHrjkL_Ow"
      },
      "outputs": [],
      "source": [
        "# let's define a function to print a full name\n",
        "def print_name(first_name, last_name = \"No surname\"):\n",
        "  print(first_name, last_name)\n",
        "\n",
        "print_name(\"Tony\", \"Perkins\")\n",
        "print_name(\"Mike\")"
      ]
    },
    {
      "attachments": {},
      "cell_type": "markdown",
      "metadata": {
        "id": "9mII2AWxKcP_"
      },
      "source": [
        "Normally, we will pass the parameters in the order they are defined. However, we can explicitly pass the values for each parameter in any order using the ``=`` operator."
      ]
    },
    {
      "cell_type": "code",
      "execution_count": null,
      "metadata": {
        "id": "0qgXCpp4NieD"
      },
      "outputs": [],
      "source": [
        "# let's define a function to print a full name\n",
        "def print_name(first_name, last_name = \"No surname\"):\n",
        "  print(first_name, last_name)\n",
        "\n",
        "print_name(last_name = \"Tony\", first_name = \"Perkins\")\n"
      ]
    },
    {
      "attachments": {},
      "cell_type": "markdown",
      "metadata": {
        "id": "LgxQXg1AN1bo"
      },
      "source": [
        "Our function may also have an unknown number of parameters. We just need to define th last known parameter after the ``*`` operator."
      ]
    },
    {
      "cell_type": "code",
      "execution_count": null,
      "metadata": {
        "id": "IlOiVD36OP45"
      },
      "outputs": [],
      "source": [
        "# let's define to sum many numbers\n",
        "def sum(*numbers):\n",
        "  s = 0\n",
        "  for x in numbers:\n",
        "    s = s + x\n",
        "\n",
        "  return s\n",
        "\n",
        "print(sum(1, 2, 3, 4, 30))\n",
        "print(sum(25))\n",
        "print(sum())"
      ]
    },
    {
      "attachments": {},
      "cell_type": "markdown",
      "metadata": {
        "id": "50o6WoF3PRoV"
      },
      "source": [
        "In Python, a variable defined inside a function is called a **local** variable. It cannot be used outside of the **scope** of the function, and attempting to do so without defining the variable outside of the function will cause an error."
      ]
    },
    {
      "cell_type": "code",
      "execution_count": null,
      "metadata": {
        "colab": {
          "base_uri": "https://localhost:8080/"
        },
        "id": "y74ZbBBlPnVZ",
        "outputId": "48a29495-35a5-42b1-d62b-f94ad038054e"
      },
      "outputs": [
        {
          "name": "stdout",
          "output_type": "stream",
          "text": [
            "Inside 25\n",
            "Outside 10\n"
          ]
        }
      ],
      "source": [
        "# variable defined outside functions\n",
        "my_var = 10\n",
        "def print_25():\n",
        "  my_var = 25\n",
        "  print('Inside', my_var)\n",
        "\n",
        "print_25()\n",
        "print('Outside', my_var)"
      ]
    },
    {
      "attachments": {},
      "cell_type": "markdown",
      "metadata": {
        "id": "aeIG3nbC-5p9"
      },
      "source": [
        "**Docstrings** are the most commonly used way to comment and document what any Python function does. A **docstring** starts and ends with three double quotes and can be single or multi line. For further information you can visit https://peps.python.org/pep-0257/."
      ]
    },
    {
      "attachments": {},
      "cell_type": "markdown",
      "metadata": {
        "id": "AX1lQhCIUiiW"
      },
      "source": [
        "## Lambdas\n",
        "There is a special kind of functions called **lambdas** which are one-line functions and are defined as follows:"
      ]
    },
    {
      "cell_type": "code",
      "execution_count": null,
      "metadata": {
        "id": "FyvFSCUdVnYj"
      },
      "outputs": [],
      "source": []
    },
    {
      "cell_type": "code",
      "execution_count": null,
      "metadata": {
        "id": "BmJ-WGUEUryo"
      },
      "outputs": [],
      "source": [
        "# lambda definition\n",
        "add = lambda x, y: x + y\n",
        "\n",
        "print(add(3, 5))"
      ]
    },
    {
      "attachments": {},
      "cell_type": "markdown",
      "metadata": {
        "id": "YyBC9PW5VHt8"
      },
      "source": [
        "They are quite useful when used as an argument to another function."
      ]
    },
    {
      "cell_type": "code",
      "execution_count": null,
      "metadata": {
        "id": "NMOe7EDkVPwz"
      },
      "outputs": [],
      "source": [
        "a = [(1, 12), (5, 1), (9, 0), (12, -3)]\n",
        "a.sort(key = lambda x: x[1])\n",
        "\n",
        "print(a)"
      ]
    },
    {
      "attachments": {},
      "cell_type": "markdown",
      "metadata": {
        "id": "ssWmingipUA3"
      },
      "source": [
        "# Classes and Objects\n",
        "In Python, we can create a new data types using Classes. Each entity of a Class has the same properties (attributes) and behaviours (methods)."
      ]
    },
    {
      "cell_type": "code",
      "execution_count": null,
      "metadata": {
        "id": "nVkokvuoEoPj"
      },
      "outputs": [],
      "source": [
        "# let's define a new Class for a Person\n",
        "class Person:\n",
        "  first_name = \"Name\"\n",
        "  last_name = \"Surname\"\n",
        "  status = \"single\"\n",
        "\n",
        "  def marry(self):\n",
        "    self.status = \"married\"\n",
        "\n",
        "  def full_name(self):\n",
        "    return self.first_name + \" \" + self.last_name\n",
        "\n",
        "  def shout_out(self):\n",
        "    print(self.full_name())"
      ]
    },
    {
      "attachments": {},
      "cell_type": "markdown",
      "metadata": {
        "id": "2qgxUmJ8FkUK"
      },
      "source": [
        "When defining a method, the first parameter must represent the calling object itself, commonly written as ``self``.\n",
        "\n",
        "To create a new object, we will use the name of the Class followed by parenthesis ``()``. After created, we can call the methods defined in the class and use the properties in any way."
      ]
    },
    {
      "cell_type": "code",
      "execution_count": null,
      "metadata": {
        "colab": {
          "base_uri": "https://localhost:8080/"
        },
        "id": "JdlfuUVkF7G-",
        "outputId": "7cb1853b-9fa7-4ccc-f754-e98a4b520206"
      },
      "outputs": [
        {
          "name": "stdout",
          "output_type": "stream",
          "text": [
            "John Wayne is single\n",
            "Molly Mallone is married\n",
            "Name Surname is single\n"
          ]
        }
      ],
      "source": [
        "person1 = Person()\n",
        "person1.first_name = \"John\"\n",
        "person1.last_name = \"Wayne\"\n",
        "print(person1.full_name(), 'is', person1.status)\n",
        "person2 = Person()\n",
        "person2.first_name = \"Molly\"\n",
        "person2.last_name = \"Mallone\"\n",
        "person2.marry()\n",
        "print(person2.full_name(), 'is', person2.status)\n",
        "print(Person.first_name, Person.last_name, 'is', Person.status)"
      ]
    },
    {
      "attachments": {},
      "cell_type": "markdown",
      "metadata": {
        "id": "SIHfNI09dvfR"
      },
      "source": [
        "Variables defined outside any method exist in any instance of the class and in the class itself. These are called *class variables*.\n",
        "\n",
        "If we write the method ``__init(...)__`` for a class, we are defining how a newly created object is initialized. It is called every time the class is instantiated.\n",
        "\n",
        "If we write the method ``__repr(...)__`` for a class, we are defining how a class instance is printed. \n",
        "\n",
        "The first parameter defined for a class method refers to the object that receives the _call_ and it is commonly named ``self``. "
      ]
    },
    {
      "cell_type": "code",
      "execution_count": null,
      "metadata": {
        "id": "ZhelnQHZe-Tu"
      },
      "outputs": [],
      "source": [
        "class Animal:\n",
        "  def __init__(self, what, name, sound):\n",
        "    self.what = what\n",
        "    self.name = name\n",
        "    self.sound = sound\n",
        "  \n",
        "  def __repr__(self):\n",
        "    return \"My name is \" + self.name + \" and I am a \" + self.what\n",
        "\n",
        "  def play(self):\n",
        "    print(self.sound)\n",
        "\n",
        "bob = Animal('dog', 'Bobby', 'woooofff')\n",
        "lou = Animal('cat', 'Louie', 'meeeooow')\n",
        "print(bob)\n",
        "bob.play()\n",
        "print(lou)\n",
        "lou.play()"
      ]
    },
    {
      "attachments": {},
      "cell_type": "markdown",
      "metadata": {
        "id": "OLLM3PPwhU_3"
      },
      "source": [
        "To fully understand Python as an **Object Oriented Programming Language**, we should learn about three more features:\n",
        "\n",
        "- Inheritance\n",
        "- Encapsulation\n",
        "- Polymorphism\n",
        "\n",
        "For further information you may follow this link https://www.programiz.com/python-programming/object-oriented-programming. "
      ]
    },
    {
      "attachments": {},
      "cell_type": "markdown",
      "metadata": {
        "id": "rDU1JNUIdQZS"
      },
      "source": [
        "# Libraries and Modules\n",
        "Most Python code is written in external libraries called modules. The ``import`` statement can be used to import Python modules from other files. \n",
        "\n",
        "To import a full module we will write\n",
        "```\n",
        "import module_name\n",
        "```\n",
        "To import just some functionality in a module, we will write \n",
        "```\n",
        "from module_name import function_list\n",
        "```\n",
        "You can find a complete reference on code import at https://docs.python.org/3/reference/import.html.\n"
      ]
    },
    {
      "cell_type": "code",
      "execution_count": null,
      "metadata": {
        "id": "AnMap2_Tlf1_"
      },
      "outputs": [],
      "source": [
        "import datetime\n",
        "feb_28_1974 = datetime.date(year = 1974, month = 2, day = 28)\n",
        "print(feb_28_1974)"
      ]
    },
    {
      "cell_type": "code",
      "execution_count": null,
      "metadata": {
        "id": "Fz4FeOd8mIKh"
      },
      "outputs": [],
      "source": [
        "from matplotlib import pyplot as plt\n",
        "plt.plot(3, 6)"
      ]
    }
  ],
  "metadata": {
    "colab": {
      "collapsed_sections": [
        "Qd2sMMLvs7co"
      ],
      "provenance": [],
      "toc_visible": true
    },
    "kernelspec": {
      "display_name": "Python 3",
      "name": "python3"
    },
    "language_info": {
      "name": "python"
    }
  },
  "nbformat": 4,
  "nbformat_minor": 0
}
