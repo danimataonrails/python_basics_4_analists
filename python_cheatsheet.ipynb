{
  "nbformat": 4,
  "nbformat_minor": 0,
  "metadata": {
    "colab": {
      "provenance": []
    },
    "kernelspec": {
      "name": "python3",
      "display_name": "Python 3"
    },
    "language_info": {
      "name": "python"
    }
  },
  "cells": [
    {
      "cell_type": "markdown",
      "source": [
        "#Jupyter Notebooks"
      ],
      "metadata": {
        "id": "aWzsC7jXJEPs"
      }
    },
    {
      "cell_type": "markdown",
      "source": [
        "##Markdown\n",
        "Markdown es un lenguaje de marcado ligero y fácil de usar que se utiliza para formatear texto en la web. Es ampliamente utilizado en archivos README de proyectos y en documentación."
      ],
      "metadata": {
        "id": "Xn5KOD8dIvye"
      }
    },
    {
      "cell_type": "markdown",
      "source": [
        "###Encabezados\n",
        "```\n",
        "# Encabezado 1\n",
        "## Encabezado 2\n",
        "### Encabezado 3\n",
        "#### Encabezado 4\n",
        "##### Encabezado 5\n",
        "###### Encabezado 6\n",
        "```\n",
        "\n"
      ],
      "metadata": {
        "id": "2ZSeLmegJCLF"
      }
    },
    {
      "cell_type": "markdown",
      "source": [
        "###Énfasis\n",
        "```\n",
        "*Texto en cursiva* o _Texto en cursiva_\n",
        "**Texto en negrita** o __Texto en negrita__\n",
        "***Texto en negrita y cursiva*** o ___Texto en negrita y cursiva___\n",
        "```"
      ],
      "metadata": {
        "id": "pmQ40_AwJgfK"
      }
    },
    {
      "cell_type": "markdown",
      "source": [
        "###Listas\n",
        "```\n",
        "1. Primer elemento\n",
        "2. Segundo elemento\n",
        "3. Tercer elemento\n",
        "```\n",
        "\n",
        "```\n",
        "- Primer elemento\n",
        "- Segundo elemento\n",
        "- Tercer elemento\n",
        "\n",
        "* Primer elemento\n",
        "* Segundo elemento\n",
        "* Tercer elemento\n",
        "\n",
        "+ Primer elemento\n",
        "+ Segundo elemento\n",
        "+ Tercer elemento\n",
        "```\n",
        "\n",
        "```\n",
        "- Primer padre\n",
        "  - Primer hijo\n",
        "    - Primer nieto\n",
        "- Segundo padre\n",
        "```\n"
      ],
      "metadata": {
        "id": "xKkWF7dcJslH"
      }
    },
    {
      "cell_type": "markdown",
      "source": [
        "###Referencia completa\n",
        "https://www.markdownguide.org/basic-syntax/"
      ],
      "metadata": {
        "id": "_kpwFXJ4Kd9y"
      }
    },
    {
      "cell_type": "markdown",
      "source": [
        "##Python\n",
        "\n"
      ],
      "metadata": {
        "id": "SLupOQ4e_sFP"
      }
    },
    {
      "cell_type": "markdown",
      "source": [
        "### 1. Sintaxis básica y variables"
      ],
      "metadata": {
        "id": "oD-Y1y4X_0iP"
      }
    },
    {
      "cell_type": "code",
      "execution_count": 1,
      "metadata": {
        "colab": {
          "base_uri": "https://localhost:8080/"
        },
        "collapsed": true,
        "id": "QPxK8U26_Imn",
        "outputId": "b8957024-10cb-4627-abe6-e01a630aa717"
      },
      "outputs": [
        {
          "output_type": "stream",
          "name": "stdout",
          "text": [
            "Hola, me llamo Juan y tengo 25 años.\n"
          ]
        }
      ],
      "source": [
        "# Ejemplo: Declaración de variables y uso de la función print\n",
        "nombre = \"Juan\"\n",
        "edad = 25\n",
        "print(f\"Hola, me llamo {nombre} y tengo {edad} años.\")"
      ]
    },
    {
      "cell_type": "markdown",
      "source": [
        "###2. Tipos de datos"
      ],
      "metadata": {
        "id": "BhBFRQIyAQ0P"
      }
    },
    {
      "cell_type": "code",
      "source": [
        "# Ejemplo: Diferentes tipos de datos\n",
        "entero = 10        # int\n",
        "decimal = 3.14     # float\n",
        "cadena = \"Python\"  # str\n",
        "booleano = True    # bool\n",
        "print(entero, decimal, cadena, booleano)\n",
        "# TODO\n",
        "print(type(entero), type(decimal), type(cadena), type(booleano))"
      ],
      "metadata": {
        "colab": {
          "base_uri": "https://localhost:8080/"
        },
        "collapsed": true,
        "id": "wPAQeBzfAdts",
        "outputId": "2db971a6-13ab-4d3a-df54-03f93d06b220"
      },
      "execution_count": 2,
      "outputs": [
        {
          "output_type": "stream",
          "name": "stdout",
          "text": [
            "10 3.14 Python True\n",
            "<class 'int'> <class 'float'> <class 'str'> <class 'bool'>\n"
          ]
        }
      ]
    },
    {
      "cell_type": "markdown",
      "source": [
        "###3. Operadores"
      ],
      "metadata": {
        "id": "w4n1asHVA2XA"
      }
    },
    {
      "cell_type": "code",
      "source": [
        "# Ejemplo: Operadores aritméticos y de comparación\n",
        "suma = 5 + 3\n",
        "resta = 10 - 2\n",
        "producto = 4 * 2\n",
        "division = 16 / 2\n",
        "comparacion = 5 > 3\n",
        "print(suma, resta, producto, division, comparacion)"
      ],
      "metadata": {
        "colab": {
          "base_uri": "https://localhost:8080/"
        },
        "collapsed": true,
        "id": "STmtkTN-A9Da",
        "outputId": "61f6673c-ec55-4120-a3d4-48973d7acc88"
      },
      "execution_count": 3,
      "outputs": [
        {
          "output_type": "stream",
          "name": "stdout",
          "text": [
            "8 8 8 8.0 True\n"
          ]
        }
      ]
    },
    {
      "cell_type": "markdown",
      "source": [
        "###4. Estructuras de control (if, else, elif)"
      ],
      "metadata": {
        "id": "Yu-ik59wBNtW"
      }
    },
    {
      "cell_type": "code",
      "source": [
        "# Ejemplo: Uso de if, else y elif\n",
        "numero = 10\n",
        "if numero > 0:\n",
        "    print(\"El número es positivo.\")\n",
        "elif numero < 0:\n",
        "    print(\"El número es negativo.\")\n",
        "else:\n",
        "    print(\"El número es cero.\")"
      ],
      "metadata": {
        "colab": {
          "base_uri": "https://localhost:8080/"
        },
        "collapsed": true,
        "id": "XzWYem6PBM8f",
        "outputId": "ec523c3d-afa6-4022-9a19-c621ea93a7ad"
      },
      "execution_count": 4,
      "outputs": [
        {
          "output_type": "stream",
          "name": "stdout",
          "text": [
            "El número es positivo.\n"
          ]
        }
      ]
    },
    {
      "cell_type": "markdown",
      "source": [
        "###5. Bucles (for, while)"
      ],
      "metadata": {
        "id": "UgNWRcxTBdLe"
      }
    },
    {
      "cell_type": "code",
      "source": [
        "# Ejemplo: Bucle for\n",
        "for i in range(5):\n",
        "    print(f\"Iteración {i}\")\n",
        "\n",
        "# Ejemplo: Bucle while\n",
        "contador = 0\n",
        "while contador < 5:\n",
        "    print(f\"Contador: {contador}\")\n",
        "    contador += 1"
      ],
      "metadata": {
        "collapsed": true,
        "colab": {
          "base_uri": "https://localhost:8080/"
        },
        "id": "5zjf4XSIBgO5",
        "outputId": "9b4db395-2b99-4f8a-b3c1-a8fb75d6913c"
      },
      "execution_count": 5,
      "outputs": [
        {
          "output_type": "stream",
          "name": "stdout",
          "text": [
            "Iteración 0\n",
            "Iteración 1\n",
            "Iteración 2\n",
            "Iteración 3\n",
            "Iteración 4\n",
            "Contador: 0\n",
            "Contador: 1\n",
            "Contador: 2\n",
            "Contador: 3\n",
            "Contador: 4\n"
          ]
        }
      ]
    },
    {
      "cell_type": "markdown",
      "source": [
        "###6. Listas y tuplas"
      ],
      "metadata": {
        "id": "NYayJyt1BnsD"
      }
    },
    {
      "cell_type": "code",
      "source": [
        "# Ejemplo: Uso de listas\n",
        "lista = [1, 2, 3, 4, 5]\n",
        "print(lista[0])\n",
        "lista.append(6)\n",
        "print(lista)\n",
        "\n",
        "# Ejemplo: Uso de tuplas\n",
        "tupla = (1, 2, 3, 4, 5)\n",
        "print(tupla[0])\n",
        "# tupla[0] = 10  # Esto daría un error, las tuplas son inmutables"
      ],
      "metadata": {
        "colab": {
          "base_uri": "https://localhost:8080/"
        },
        "collapsed": true,
        "id": "HNLncUU4Buvg",
        "outputId": "841e7fa5-c29c-4311-fea2-e0ab89cf2f06"
      },
      "execution_count": 6,
      "outputs": [
        {
          "output_type": "stream",
          "name": "stdout",
          "text": [
            "1\n",
            "[1, 2, 3, 4, 5, 6]\n",
            "1\n"
          ]
        }
      ]
    },
    {
      "cell_type": "markdown",
      "source": [
        "###7. Diccionarios"
      ],
      "metadata": {
        "id": "QbmM1c0fB1n5"
      }
    },
    {
      "cell_type": "code",
      "source": [
        "# Ejemplo: Uso de diccionarios\n",
        "diccionario = {\"nombre\": \"Juan\", \"edad\": 25, \"ciudad\": \"Madrid\"}\n",
        "print(diccionario[\"nombre\"])\n",
        "diccionario[\"edad\"] = 26\n",
        "print(diccionario)"
      ],
      "metadata": {
        "colab": {
          "base_uri": "https://localhost:8080/"
        },
        "collapsed": true,
        "id": "xjMKEgiZB7mR",
        "outputId": "88c2d363-4d2d-4a9b-e137-fa1d2dbdd681"
      },
      "execution_count": 7,
      "outputs": [
        {
          "output_type": "stream",
          "name": "stdout",
          "text": [
            "Juan\n",
            "{'nombre': 'Juan', 'edad': 26, 'ciudad': 'Madrid'}\n"
          ]
        }
      ]
    },
    {
      "cell_type": "markdown",
      "source": [
        "###8. Funciones"
      ],
      "metadata": {
        "id": "pmKo5f2UCDL9"
      }
    },
    {
      "cell_type": "code",
      "source": [
        "# Ejemplo: Definición y llamada a una función\n",
        "def saludar(nombre):\n",
        "    return f\"Hola, {nombre}!\"\n",
        "\n",
        "mensaje = saludar(\"Ana\")\n",
        "print(mensaje)"
      ],
      "metadata": {
        "colab": {
          "base_uri": "https://localhost:8080/"
        },
        "id": "jxi0wdt-CCh8",
        "outputId": "05116e0e-050a-46f7-fa30-482b756c131b"
      },
      "execution_count": 8,
      "outputs": [
        {
          "output_type": "stream",
          "name": "stdout",
          "text": [
            "Hola, Ana!\n"
          ]
        }
      ]
    },
    {
      "cell_type": "markdown",
      "source": [
        "###9. Módulos y paquetes"
      ],
      "metadata": {
        "id": "X7o_fii-CMIY"
      }
    },
    {
      "cell_type": "code",
      "source": [
        "# Ejemplo: Uso del módulo math\n",
        "import math\n",
        "raiz_cuadrada = math.sqrt(16)\n",
        "print(raiz_cuadrada)"
      ],
      "metadata": {
        "collapsed": true,
        "colab": {
          "base_uri": "https://localhost:8080/"
        },
        "id": "RZtBm0gFCQWA",
        "outputId": "30fa1dc9-68d9-4dcd-a61c-79119e9b9c7b"
      },
      "execution_count": 9,
      "outputs": [
        {
          "output_type": "stream",
          "name": "stdout",
          "text": [
            "4.0\n"
          ]
        }
      ]
    },
    {
      "cell_type": "markdown",
      "source": [
        "###10. Manejo de archivos"
      ],
      "metadata": {
        "id": "xIGb3YkzCWkg"
      }
    },
    {
      "cell_type": "code",
      "source": [
        "# Ejemplo: Lectura y escritura de archivos\n",
        "# Escribir en un archivo\n",
        "with open(\"archivo.txt\", \"w\") as archivo:\n",
        "    archivo.write(\"Hola, mundo!\")\n",
        "\n",
        "# Leer de un archivo\n",
        "with open(\"archivo.txt\", \"r\") as archivo:\n",
        "    contenido = archivo.read()\n",
        "    print(contenido)"
      ],
      "metadata": {
        "colab": {
          "base_uri": "https://localhost:8080/"
        },
        "collapsed": true,
        "id": "kBHzdwlZCbxv",
        "outputId": "67dab729-cfdf-4821-8cd9-b271378db00a"
      },
      "execution_count": 10,
      "outputs": [
        {
          "output_type": "stream",
          "name": "stdout",
          "text": [
            "Hola, mundo!\n"
          ]
        }
      ]
    },
    {
      "cell_type": "markdown",
      "source": [
        "##Comentarios\n",
        "Los comentarios son texto insertado dentro de nuestro código que no se ejecuta. Aportan...\n",
        "\n",
        "* **Claridad:** Los comentarios ayudan a otros (y a ti mismo en el futuro) a entender rápidamente qué hace el código.\n",
        "* **Mantenibilidad:** Facilitan la tarea de mantener y actualizar el código, ya que explican la lógica y las decisiones tomadas.\n",
        "* **Colaboración:** En proyectos con múltiples desarrolladores, los comentarios permiten una mejor comunicación y comprensión del código entre los miembros del equipo."
      ],
      "metadata": {
        "id": "b8MCtVIhEoem"
      }
    },
    {
      "cell_type": "markdown",
      "source": [
        "###Comentarios de una sola línea\n",
        "Se usan para explicar una línea específica de código o hacer una anotación breve."
      ],
      "metadata": {
        "id": "RVoS94ShFAMm"
      }
    },
    {
      "cell_type": "code",
      "source": [
        "# Inicializamos la variable con el valor 10\n",
        "x = 10\n",
        "print(x)  # Mostramos el valor de x en la consola"
      ],
      "metadata": {
        "id": "PPMBxclgE-ju"
      },
      "execution_count": null,
      "outputs": []
    },
    {
      "cell_type": "markdown",
      "source": [
        "###Comentarios de múltiples líneas\n",
        "Se utilizan para explicar secciones más largas de código o para proporcionar descripciones detalladas."
      ],
      "metadata": {
        "id": "Qj4LULJAFGcV"
      }
    },
    {
      "cell_type": "code",
      "source": [
        "\"\"\"\n",
        "Esta función calcula la suma de dos números.\n",
        "Argumentos:\n",
        "a -- el primer número\n",
        "b -- el segundo número\n",
        "Retorna:\n",
        "La suma de a y b\n",
        "\"\"\"\n",
        "def sumar(a, b):\n",
        "    return a + b\n",
        "\n",
        "resultado = sumar(5, 3)\n",
        "print(resultado)"
      ],
      "metadata": {
        "colab": {
          "base_uri": "https://localhost:8080/"
        },
        "collapsed": true,
        "id": "oQ81sdvUFL4s",
        "outputId": "349d320e-543a-4204-c32e-ee4a0c562351"
      },
      "execution_count": 13,
      "outputs": [
        {
          "output_type": "stream",
          "name": "stdout",
          "text": [
            "8\n"
          ]
        }
      ]
    },
    {
      "cell_type": "markdown",
      "source": [
        "###Recomendaciones\n",
        "* Sé claro y conciso: Los comentarios deben ser fáciles de entender y no demasiado largos.\n",
        "* Actualiza los comentarios: Asegúrate de que los comentarios estén siempre actualizados y reflejen el estado actual del código.\n",
        "* Evita lo obvio: No comentes cosas que son evidentes. Por ejemplo, `x = 10 # Asignamos 10 a x` es innecesario si la asignación es obvia."
      ],
      "metadata": {
        "id": "FPcf5qr0GBBT"
      }
    },
    {
      "cell_type": "markdown",
      "source": [
        "## Indentación\n",
        "Python usa la indentación para delimitar bloques de código, como los que se encuentran dentro de estructuras de control, funciones y bucles. A diferencia de otros lenguajes de programación que utilizan llaves {} para estos fines, Python se basa en la indentación.\n",
        "\n",
        "La indentación no solo es una cuestión de estilo en Python, sino que es **parte fundamental de la sintaxis** del lenguaje. Un error de indentación puede hacer que tu código no funcione o se comporte de manera inesperada"
      ],
      "metadata": {
        "id": "LLt-sBrzC1Zo"
      }
    },
    {
      "cell_type": "code",
      "source": [
        "# Correcto\n",
        "if True:\n",
        "    print(\"Este bloque está correctamente indentado.\")\n",
        "    if False:\n",
        "        print(\"Esto nunca se imprimirá, pero está correctamente indentado.\")\n",
        "    print(\"Este también está correctamente indentado.\")"
      ],
      "metadata": {
        "id": "MhpsZKZBC--Y"
      },
      "execution_count": null,
      "outputs": []
    },
    {
      "cell_type": "code",
      "source": [
        "# Incorrecto\n",
        "if True:\n",
        "print(\"Este bloque no está correctamente indentado.\")  # Esto dará un error de indentación.\n",
        "    if False:\n",
        "        print(\"Esto también dará un error de indentación.\")"
      ],
      "metadata": {
        "id": "3O8MVrFrDDBQ"
      },
      "execution_count": null,
      "outputs": []
    },
    {
      "cell_type": "markdown",
      "source": [
        "1. **Bloques de código:** Cada bloque de código debe estar correctamente indentado para que Python lo reconozca como tal.\n",
        "  * En el ejemplo correcto, el print dentro del if está indentado con 4 espacios (o 1 tabulación), lo que indica que pertenece al bloque del if.\n",
        "  * En el ejemplo incorrecto, la línea print(\"Este bloque no está correctamente indentado.\") no está indentada correctamente, lo que provocará un error de indentación.\n",
        "2. **Consistencia:** Es importante ser consistente con el número de espacios o tabulaciones que usas para la indentación. Python recomienda usar 4 espacios por nivel de indentación.\n",
        "  * Nota: No mezcles espacios y tabulaciones, ya que esto puede causar errores difíciles de depurar."
      ],
      "metadata": {
        "id": "F_LADncADNBD"
      }
    },
    {
      "cell_type": "code",
      "source": [
        "def saludar(nombre):\n",
        "    if nombre:\n",
        "        print(f\"Hola, {nombre}!\")\n",
        "    else:\n",
        "        print(\"Hola, mundo!\")\n",
        "\n",
        "saludar(\"Ana\")\n",
        "saludar(\"\")"
      ],
      "metadata": {
        "colab": {
          "base_uri": "https://localhost:8080/"
        },
        "collapsed": true,
        "id": "LDWUuC7zEHlk",
        "outputId": "4e7eb2cd-9780-4d14-89f2-1205f260d741"
      },
      "execution_count": 11,
      "outputs": [
        {
          "output_type": "stream",
          "name": "stdout",
          "text": [
            "Hola, Ana!\n",
            "Hola, mundo!\n"
          ]
        }
      ]
    },
    {
      "cell_type": "markdown",
      "source": [
        "##Módulos estándar"
      ],
      "metadata": {
        "id": "LgyRLK8cGo46"
      }
    },
    {
      "cell_type": "markdown",
      "source": [
        "###math\n",
        "https://docs.python.org/3/library/math.html"
      ],
      "metadata": {
        "id": "8PQ8khvHGtjn"
      }
    },
    {
      "cell_type": "code",
      "source": [
        "import math\n",
        "\n",
        "# Calcular la raíz cuadrada\n",
        "print(math.sqrt(16))\n",
        "\n",
        "# Calcular el seno de un ángulo en radianes\n",
        "print(math.sin(math.pi / 2))\n",
        "\n",
        "# Valor de pi\n",
        "print(math.pi)"
      ],
      "metadata": {
        "id": "C2UeC10bGyb8"
      },
      "execution_count": null,
      "outputs": []
    },
    {
      "cell_type": "markdown",
      "source": [
        "###datetime\n",
        "https://docs.python.org/3/library/datetime.html"
      ],
      "metadata": {
        "id": "-NrnECXdG-Qp"
      }
    },
    {
      "cell_type": "code",
      "source": [
        "from datetime import datetime, timedelta\n",
        "\n",
        "# Obtener la fecha y hora actual\n",
        "ahora = datetime.now()\n",
        "print(ahora)\n",
        "\n",
        "# Formatear fecha\n",
        "print(ahora.strftime(\"%Y-%m-%d %H:%M:%S\"))\n",
        "\n",
        "# Calcular la fecha de hace una semana\n",
        "hace_una_semana = ahora - timedelta(weeks=1)\n",
        "print(hace_una_semana)"
      ],
      "metadata": {
        "id": "AHer-imOHEZh"
      },
      "execution_count": null,
      "outputs": []
    },
    {
      "cell_type": "markdown",
      "source": [
        "###json\n",
        "https://docs.python.org/3/library/json.html"
      ],
      "metadata": {
        "id": "0i6Te2_PHNcA"
      }
    },
    {
      "cell_type": "code",
      "source": [
        "import json\n",
        "\n",
        "# Convertir un diccionario a una cadena JSON\n",
        "data = {\"nombre\": \"Juan\", \"edad\": 25}\n",
        "json_str = json.dumps(data)\n",
        "print(json_str)\n",
        "\n",
        "# Convertir una cadena JSON a un diccionario\n",
        "data_back = json.loads(json_str)\n",
        "print(data_back)"
      ],
      "metadata": {
        "id": "EMab6N52HMl8"
      },
      "execution_count": null,
      "outputs": []
    },
    {
      "cell_type": "markdown",
      "source": [
        "###random\n",
        "https://docs.python.org/3/library/random.html"
      ],
      "metadata": {
        "id": "lqdmXpZPHhz7"
      }
    },
    {
      "cell_type": "code",
      "source": [
        "import random\n",
        "\n",
        "# Generar un número aleatorio entre 1 y 10\n",
        "print(random.randint(1, 10))\n",
        "\n",
        "# Seleccionar un elemento aleatorio de una lista\n",
        "lista = ['a', 'b', 'c', 'd']\n",
        "print(random.choice(lista))\n",
        "\n",
        "# Barajar una lista\n",
        "random.shuffle(lista)\n",
        "print(lista)"
      ],
      "metadata": {
        "id": "5heFpdQZHjbD"
      },
      "execution_count": null,
      "outputs": []
    },
    {
      "cell_type": "markdown",
      "source": [
        "###re\n",
        "https://docs.python.org/3/library/re.html"
      ],
      "metadata": {
        "id": "fmbBRxBnHwTs"
      }
    },
    {
      "cell_type": "code",
      "source": [
        "import re\n",
        "\n",
        "# Buscar todas las ocurrencias de un patrón en una cadena\n",
        "texto = \"Hola, mi número de teléfono es 123-456-7890\"\n",
        "patron = r'\\d{3}-\\d{3}-\\d{4}'\n",
        "coincidencias = re.findall(patron, texto)\n",
        "print(coincidencias)\n",
        "\n",
        "# Reemplazar un patrón en una cadena\n",
        "texto_modificado = re.sub(patron, 'XXX-XXX-XXXX', texto)\n",
        "print(texto_modificado)"
      ],
      "metadata": {
        "colab": {
          "base_uri": "https://localhost:8080/"
        },
        "id": "GKkE60mbHv5i",
        "outputId": "dde1f320-9655-4c06-e7f4-b6adfd9f6b1b"
      },
      "execution_count": 14,
      "outputs": [
        {
          "output_type": "stream",
          "name": "stdout",
          "text": [
            "['123-456-7890']\n",
            "Hola, mi número de teléfono es XXX-XXX-XXXX\n"
          ]
        }
      ]
    },
    {
      "cell_type": "markdown",
      "source": [
        "###urllib\n",
        "https://docs.python.org/3/library/urllib.html"
      ],
      "metadata": {
        "id": "HntPchRtICVX"
      }
    },
    {
      "cell_type": "code",
      "source": [
        "from urllib import request\n",
        "\n",
        "# Realizar una solicitud GET a una URL\n",
        "response = request.urlopen('http://www.google.com')\n",
        "html = response.read().decode('UTF-8')\n",
        "print(html)"
      ],
      "metadata": {
        "colab": {
          "base_uri": "https://localhost:8080/"
        },
        "collapsed": true,
        "id": "-3TSbpdzIHRr",
        "outputId": "429fa849-4760-4d32-f1ff-47922ec6a2d5"
      },
      "execution_count": 22,
      "outputs": [
        {
          "output_type": "stream",
          "name": "stdout",
          "text": [
            "<!doctype html><html itemscope=\"\" itemtype=\"http://schema.org/WebPage\" lang=\"en\"><head><meta content=\"Search the world's information, including webpages, images, videos and more. Google has many special features to help you find exactly what you're looking for.\" name=\"description\"><meta content=\"noodp, \" name=\"robots\"><meta content=\"text/html; charset=UTF-8\" http-equiv=\"Content-Type\"><meta content=\"/images/branding/googleg/1x/googleg_standard_color_128dp.png\" itemprop=\"image\"><title>Google</title><script nonce=\"OJygKEt0NBK_6YcHDMr3wA\">(function(){var _g={kEI:'uLJxZqneC4fC0PEP4t6JwAY',kEXPI:'0,1356780,2343480,689,404,24,12,20,39,4,538593,2872,2891,3926,7828,31274,46127,18161,65253,24073,6621,49751,2,16395,342,23024,6699,41949,57734,2,2,1,26632,8155,23351,22435,9779,45600,17058,36746,3801,2412,1549,28670,3030,15816,1804,7734,29,18069,1262,8174,11814,477,1155,56362,5211785,890,622,39,5991770,2840178,65,63,5,77,4,1,1,1,1,1,1,26710525,1271212,16672,43887,3,318,4,1281,3,2124363,23029351,8163,3396,1240,8408,8028,8638,20399,3,7624,36870,10511,2370,4834,1573,10517,7,3322,884,12068,2210,3825,4,4141,214,389,5544,8939,3004,24930,6623,75,1,10009,3487,5439,2659,3435,3319,155,1,1,1,396,2085,1252,12251,1005,2888,1,3843,6595,4,2539,967,541,3092,207,121,569,2079,7,562,4,126,2878,273,844,2266,4795,2168,1213,4033,4082,409,518,827,1978,1,6,1596,3,1309,1009,2,3,2149,4140,17,3598,818,215,2712,1122,3,1,1926,423,664,2837,1425,185,1006,286,1,1,2,3,1413,1,1,2,3,5,1643,41,212,1962,1752,573,100,1,959,763,999,305,1,4,2,2415,139,580,89,1,220,244,206,1,19,204,5453,510,916,1214,156,1138,1144,216,730,1,372,497,1,564,199,374,49,311,2486,1362,202,7,157,7,16,1,1,1015,128,478,3,1,483,127,206,455,654,1,3,259,2009,4,364,38,257,368,463,120,589,1560,71,35,233,240,10,437,415,5,88,4,1,6,297,243,1011,1,731,179,180,1,3,23,310,340,1110,24,111,168,1,3,9,271,2,35,286,261,177,11,38,13,198,1751,5,246,1,1,194,542,36,486,1,715,453,208,2,570,795,87,554,674,208,404,220,2,44,74,2,113,17,569,319,265,1,560,1,3,46,202,44,8,1,1,320,4,183,45,709,3,550,130,224,555,720,169,4,636,480,1280,67,440,88,21561574,5720,3,7534,6634,2656,991,322,1285,295,2144',kBL:'fZRg',kOPI:89978449};(function(){var a;((a=window.google)==null?0:a.stvsc)?google.kEI=_g.kEI:window.google=_g;}).call(this);})();(function(){google.sn='webhp';google.kHL='en';})();(function(){\n",
            "var h=this||self;function l(){return window.google!==void 0&&window.google.kOPI!==void 0&&window.google.kOPI!==0?window.google.kOPI:null};var m,n=[];function p(a){for(var b;a&&(!a.getAttribute||!(b=a.getAttribute(\"eid\")));)a=a.parentNode;return b||m}function q(a){for(var b=null;a&&(!a.getAttribute||!(b=a.getAttribute(\"leid\")));)a=a.parentNode;return b}function r(a){/^http:/i.test(a)&&window.location.protocol===\"https:\"&&(google.ml&&google.ml(Error(\"a\"),!1,{src:a,glmm:1}),a=\"\");return a}\n",
            "function t(a,b,c,d,k){var e=\"\";b.search(\"&ei=\")===-1&&(e=\"&ei=\"+p(d),b.search(\"&lei=\")===-1&&(d=q(d))&&(e+=\"&lei=\"+d));d=\"\";var g=b.search(\"&cshid=\")===-1&&a!==\"slh\",f=[];f.push([\"zx\",Date.now().toString()]);h._cshid&&g&&f.push([\"cshid\",h._cshid]);c=c();c!=null&&f.push([\"opi\",c.toString()]);for(c=0;c<f.length;c++){if(c===0||c>0)d+=\"&\";d+=f[c][0]+\"=\"+f[c][1]}return\"/\"+(k||\"gen_204\")+\"?atyp=i&ct=\"+String(a)+\"&cad=\"+(b+e+d)};m=google.kEI;google.getEI=p;google.getLEI=q;google.ml=function(){return null};google.log=function(a,b,c,d,k,e){e=e===void 0?l:e;c||(c=t(a,b,e,d,k));if(c=r(c)){a=new Image;var g=n.length;n[g]=a;a.onerror=a.onload=a.onabort=function(){delete n[g]};a.src=c}};google.logUrl=function(a,b){b=b===void 0?l:b;return t(\"\",a,b)};}).call(this);(function(){google.y={};google.sy=[];google.x=function(a,b){if(a)var c=a.id;else{do c=Math.random();while(google.y[c])}google.y[c]=[a,b];return!1};google.sx=function(a){google.sy.push(a)};google.lm=[];google.plm=function(a){google.lm.push.apply(google.lm,a)};google.lq=[];google.load=function(a,b,c){google.lq.push([[a],b,c])};google.loadAll=function(a,b){google.lq.push([a,b])};google.bx=!1;google.lx=function(){};var d=[];google.fce=function(a,b,c,e){d.push([a,b,c,e])};google.qce=d;}).call(this);google.f={};(function(){\n",
            "document.documentElement.addEventListener(\"submit\",function(b){var a;if(a=b.target){var c=a.getAttribute(\"data-submitfalse\");a=c===\"1\"||c===\"q\"&&!a.elements.q.value?!0:!1}else a=!1;a&&(b.preventDefault(),b.stopPropagation())},!0);document.documentElement.addEventListener(\"click\",function(b){var a;a:{for(a=b.target;a&&a!==document.documentElement;a=a.parentElement)if(a.tagName===\"A\"){a=a.getAttribute(\"data-nohref\")===\"1\";break a}a=!1}a&&b.preventDefault()},!0);}).call(this);</script><style>#gbar,#guser{font-size:13px;padding-top:1px !important;}#gbar{height:22px}#guser{padding-bottom:7px !important;text-align:right}.gbh,.gbd{border-top:1px solid #c9d7f1;font-size:1px}.gbh{height:0;position:absolute;top:24px;width:100%}@media all{.gb1{height:22px;margin-right:.5em;vertical-align:top}#gbar{float:left}}a.gb1,a.gb4{text-decoration:underline !important}a.gb1,a.gb4{color:#00c !important}.gbi .gb4{color:#dd8e27 !important}.gbf .gb4{color:#900 !important}\n",
            "</style><style>body,td,a,p,.h{font-family:arial,sans-serif}body{margin:0;overflow-y:scroll}#gog{padding:3px 8px 0}td{line-height:.8em}.gac_m td{line-height:17px}form{margin-bottom:20px}.h{color:#1967d2}em{font-weight:bold;font-style:normal}.lst{height:25px;width:496px}.gsfi,.lst{font:18px arial,sans-serif}.gsfs{font:17px arial,sans-serif}.ds{display:inline-box;display:inline-block;margin:3px 0 4px;margin-left:4px}input{font-family:inherit}body{background:#fff;color:#000}a{color:#681da8;text-decoration:none}a:hover,a:active{text-decoration:underline}.fl a{color:#1967d2}a:visited{color:#681da8}.sblc{padding-top:5px}.sblc a{display:block;margin:2px 0;margin-left:13px;font-size:11px}.lsbb{background:#f8f9fa;border:solid 1px;border-color:#dadce0 #70757a #70757a #dadce0;height:30px}.lsbb{display:block}#WqQANb a{display:inline-block;margin:0 12px}.lsb{background:url(/images/nav_logo229.png) 0 -261px repeat-x;color:#000;border:none;cursor:pointer;height:30px;margin:0;outline:0;font:15px arial,sans-serif;vertical-align:top}.lsb:active{background:#dadce0}.lst:focus{outline:none}</style><script nonce=\"OJygKEt0NBK_6YcHDMr3wA\">(function(){window.google.erd={jsr:1,bv:2027,de:true};\n",
            "var h=this||self;var k,l=(k=h.mei)!=null?k:1,n,p=(n=h.sdo)!=null?n:!0,q=0,r,t=google.erd,v=t.jsr;google.ml=function(a,b,d,m,e){e=e===void 0?2:e;b&&(r=a&&a.message);d===void 0&&(d={});d.cad=\"ple_\"+google.ple+\".aple_\"+google.aple;if(google.dl)return google.dl(a,e,d,!0),null;b=d;if(v<0){window.console&&console.error(a,b);if(v===-2)throw a;b=!1}else b=!a||!a.message||a.message===\"Error loading script\"||q>=l&&!m?!1:!0;if(!b)return null;q++;d=d||{};b=encodeURIComponent;var c=\"/gen_204?atyp=i&ei=\"+b(google.kEI);google.kEXPI&&(c+=\"&jexpid=\"+b(google.kEXPI));c+=\"&srcpg=\"+b(google.sn)+\"&jsr=\"+b(t.jsr)+\n",
            "\"&bver=\"+b(t.bv);var f=a.lineNumber;f!==void 0&&(c+=\"&line=\"+f);var g=a.fileName;g&&(g.indexOf(\"-extension:/\")>0&&(e=3),c+=\"&script=\"+b(g),f&&g===window.location.href&&(f=document.documentElement.outerHTML.split(\"\\n\")[f],c+=\"&cad=\"+b(f?f.substring(0,300):\"No script found.\")));google.ple&&google.ple===1&&(e=2);c+=\"&jsel=\"+e;for(var u in d)c+=\"&\",c+=b(u),c+=\"=\",c+=b(d[u]);c=c+\"&emsg=\"+b(a.name+\": \"+a.message);c=c+\"&jsst=\"+b(a.stack||\"N/A\");c.length>=12288&&(c=c.substr(0,12288));a=c;m||google.log(0,\"\",a);return a};window.onerror=function(a,b,d,m,e){r!==a&&(a=e instanceof Error?e:Error(a),d===void 0||\"lineNumber\"in a||(a.lineNumber=d),b===void 0||\"fileName\"in a||(a.fileName=b),google.ml(a,!1,void 0,!1,a.name===\"SyntaxError\"||a.message.substring(0,11)===\"SyntaxError\"||a.message.indexOf(\"Script error\")!==-1?3:0));r=null;p&&q>=l&&(window.onerror=null)};})();</script></head><body bgcolor=\"#fff\"><script nonce=\"OJygKEt0NBK_6YcHDMr3wA\">(function(){var src='/images/nav_logo229.png';var iesg=false;document.body.onload = function(){window.n && window.n();if (document.images){new Image().src=src;}\n",
            "if (!iesg){document.f&&document.f.q.focus();document.gbqf&&document.gbqf.q.focus();}\n",
            "}\n",
            "})();</script><div id=\"mngb\"><div id=gbar><nobr><b class=gb1>Search</b> <a class=gb1 href=\"https://www.google.com/imghp?hl=en&tab=wi\">Images</a> <a class=gb1 href=\"http://maps.google.com/maps?hl=en&tab=wl\">Maps</a> <a class=gb1 href=\"https://play.google.com/?hl=en&tab=w8\">Play</a> <a class=gb1 href=\"https://www.youtube.com/?tab=w1\">YouTube</a> <a class=gb1 href=\"https://news.google.com/?tab=wn\">News</a> <a class=gb1 href=\"https://mail.google.com/mail/?tab=wm\">Gmail</a> <a class=gb1 href=\"https://drive.google.com/?tab=wo\">Drive</a> <a class=gb1 style=\"text-decoration:none\" href=\"https://www.google.com/intl/en/about/products?tab=wh\"><u>More</u> &raquo;</a></nobr></div><div id=guser width=100%><nobr><span id=gbn class=gbi></span><span id=gbf class=gbf></span><span id=gbe></span><a href=\"http://www.google.com/history/optout?hl=en\" class=gb4>Web History</a> | <a  href=\"/preferences?hl=en\" class=gb4>Settings</a> | <a target=_top id=gb_70 href=\"https://accounts.google.com/ServiceLogin?hl=en&passive=true&continue=http://www.google.com/&ec=GAZAAQ\" class=gb4>Sign in</a></nobr></div><div class=gbh style=left:0></div><div class=gbh style=right:0></div></div><center><br clear=\"all\" id=\"lgpd\"><div id=\"lga\"><img alt=\"Google\" height=\"92\" src=\"/images/branding/googlelogo/1x/googlelogo_white_background_color_272x92dp.png\" style=\"padding:28px 0 14px\" width=\"272\" id=\"hplogo\"><br><br></div><form action=\"/search\" name=\"f\"><table cellpadding=\"0\" cellspacing=\"0\"><tr valign=\"top\"><td width=\"25%\">&nbsp;</td><td align=\"center\" nowrap=\"\"><input name=\"ie\" value=\"ISO-8859-1\" type=\"hidden\"><input value=\"en\" name=\"hl\" type=\"hidden\"><input name=\"source\" type=\"hidden\" value=\"hp\"><input name=\"biw\" type=\"hidden\"><input name=\"bih\" type=\"hidden\"><div class=\"ds\" style=\"height:32px;margin:4px 0\"><input class=\"lst\" style=\"margin:0;padding:5px 8px 0 6px;vertical-align:top;color:#000\" autocomplete=\"off\" value=\"\" title=\"Google Search\" maxlength=\"2048\" name=\"q\" size=\"57\"></div><br style=\"line-height:0\"><span class=\"ds\"><span class=\"lsbb\"><input class=\"lsb\" value=\"Google Search\" name=\"btnG\" type=\"submit\"></span></span><span class=\"ds\"><span class=\"lsbb\"><input class=\"lsb\" id=\"tsuid_1\" value=\"I'm Feeling Lucky\" name=\"btnI\" type=\"submit\"><script nonce=\"OJygKEt0NBK_6YcHDMr3wA\">(function(){var id='tsuid_1';document.getElementById(id).onclick = function(){if (this.form.q.value){this.checked = 1;if (this.form.iflsig)this.form.iflsig.disabled = false;}\n",
            "else top.location='/doodles/';};})();</script><input value=\"AL9hbdgAAAAAZnHAyLVc5uuB7vluPXs7pRwwGE6K50wT\" name=\"iflsig\" type=\"hidden\"></span></span></td><td class=\"fl sblc\" align=\"left\" nowrap=\"\" width=\"25%\"><a href=\"/advanced_search?hl=en&amp;authuser=0\">Advanced search</a></td></tr></table><input id=\"gbv\" name=\"gbv\" type=\"hidden\" value=\"1\"><script nonce=\"OJygKEt0NBK_6YcHDMr3wA\">(function(){var a,b=\"1\";if(document&&document.getElementById)if(typeof XMLHttpRequest!=\"undefined\")b=\"2\";else if(typeof ActiveXObject!=\"undefined\"){var c,d,e=[\"MSXML2.XMLHTTP.6.0\",\"MSXML2.XMLHTTP.3.0\",\"MSXML2.XMLHTTP\",\"Microsoft.XMLHTTP\"];for(c=0;d=e[c++];)try{new ActiveXObject(d),b=\"2\"}catch(h){}}a=b;if(a==\"2\"&&location.search.indexOf(\"&gbv=2\")==-1){var f=google.gbvu,g=document.getElementById(\"gbv\");g&&(g.value=a);f&&window.setTimeout(function(){location.href=f},0)};}).call(this);</script></form><div id=\"gac_scont\"></div><div style=\"font-size:83%;min-height:3.5em\"><br></div><span id=\"footer\"><div style=\"font-size:10pt\"><div style=\"margin:19px auto;text-align:center\" id=\"WqQANb\"><a href=\"/intl/en/ads/\">Advertising</a><a href=\"/services/\">Business Solutions</a><a href=\"/intl/en/about.html\">About Google</a></div></div><p style=\"font-size:8pt;color:#70757a\">&copy; 2024 - <a href=\"/intl/en/policies/privacy/\">Privacy</a> - <a href=\"/intl/en/policies/terms/\">Terms</a></p></span></center><script nonce=\"OJygKEt0NBK_6YcHDMr3wA\">(function(){window.google.cdo={height:757,width:1440};(function(){var a=window.innerWidth,b=window.innerHeight;if(!a||!b){var c=window.document,d=c.compatMode==\"CSS1Compat\"?c.documentElement:c.body;a=d.clientWidth;b=d.clientHeight}\n",
            "if(a&&b&&(a!=google.cdo.width||b!=google.cdo.height)){var e=google,f=e.log,g=\"/client_204?&atyp=i&biw=\"+a+\"&bih=\"+b+\"&ei=\"+google.kEI,h=\"\",k=[],l=window.google!==void 0&&window.google.kOPI!==void 0&&window.google.kOPI!==0?window.google.kOPI:null;l!=null&&k.push([\"opi\",l.toString()]);for(var m=0;m<k.length;m++){if(m===0||m>0)h+=\"&\";h+=k[m][0]+\"=\"+k[m][1]}f.call(e,\"\",\"\",g+h)};}).call(this);})();</script>  <script nonce=\"OJygKEt0NBK_6YcHDMr3wA\">(function(){google.xjs={basecomb:'/xjs/_/js/k\\x3dxjs.hp.en.jiGsiSi86dw.O/ck\\x3dxjs.hp.oBZ0vwJ0EeU.L.X.O/am\\x3dAQAAAAEAAAAAAAAAAAAAAAAAAAAAAAQAAAAAAAAABMABAAAAAgAEAgAAAMAPAAAAAAAAAAgAYAACAXAgviMAEIBFAAB4AQ/d\\x3d1/ed\\x3d1/dg\\x3d0/ujg\\x3d1/rs\\x3dACT90oFs1PggyO8-k162dsQut6pbT--KXA',basecss:'/xjs/_/ss/k\\x3dxjs.hp.oBZ0vwJ0EeU.L.X.O/am\\x3dAQAAAAEAAAAAAAAAAAAAAAAAAAAAAAAAAAAAAAAAAAAAAAAAAgAEAgAAAAAAAAAAAAAAAAgAYAACAQ/rs\\x3dACT90oGZCeqqnoyYhq30qrlfndvzJE1nRQ',basejs:'/xjs/_/js/k\\x3dxjs.hp.en.jiGsiSi86dw.O/am\\x3dAAAAAAAAAAAAAAAAAAAAAAAAAAAAAAQAAAAAAAAABMABAAAAAAAAAAAAAMAPAAAAAAAAAAAAAAAAAHAgviMAEIBFAAB4AQ/dg\\x3d0/rs\\x3dACT90oF6ZEBJNoclc1hBHtHHIqWorJ2mGg',excm:[]};})();</script> <link href=\"/xjs/_/ss/k=xjs.hp.oBZ0vwJ0EeU.L.X.O/am=AQAAAAEAAAAAAAAAAAAAAAAAAAAAAAAAAAAAAAAAAAAAAAAAAgAEAgAAAAAAAAAAAAAAAAgAYAACAQ/d=1/ed=1/rs=ACT90oGZCeqqnoyYhq30qrlfndvzJE1nRQ/m=sb_he,d\" rel=\"stylesheet\" nonce=\"OJygKEt0NBK_6YcHDMr3wA\">    <script nonce=\"OJygKEt0NBK_6YcHDMr3wA\">(function(){var u='/xjs/_/js/k\\x3dxjs.hp.en.jiGsiSi86dw.O/am\\x3dAAAAAAAAAAAAAAAAAAAAAAAAAAAAAAQAAAAAAAAABMABAAAAAAAAAAAAAMAPAAAAAAAAAAAAAAAAAHAgviMAEIBFAAB4AQ/d\\x3d1/ed\\x3d1/rs\\x3dACT90oF6ZEBJNoclc1hBHtHHIqWorJ2mGg/m\\x3dsb_he,d';var st=1;var amd=1000;var v=false;\n",
            "var e=this||self,f=function(a){return a};var g;var h=function(a){this.g=a};h.prototype.toString=function(){return this.g+\"\"};var k={};\n",
            "function l(a,b){a.src=b instanceof h&&b.constructor===h?b.g:\"type_error:TrustedResourceUrl\";var c,d;(c=(b=(d=(c=(a.ownerDocument&&a.ownerDocument.defaultView||window).document).querySelector)==null?void 0:d.call(c,\"script[nonce]\"))?b.nonce||b.getAttribute(\"nonce\")||\"\":\"\")&&a.setAttribute(\"nonce\",c)};var m=function(){var a=document;var b=\"SCRIPT\";a.contentType===\"application/xhtml+xml\"&&(b=b.toLowerCase());return a.createElement(b)};function n(a){a=a===null?\"null\":a===void 0?\"undefined\":a;if(g===void 0){var b=null;var c=e.trustedTypes;if(c&&c.createPolicy){try{b=c.createPolicy(\"goog#html\",{createHTML:f,createScript:f,createScriptURL:f})}catch(d){e.console&&e.console.error(d.message)}g=b}else g=b}a=(b=g)?b.createScriptURL(a):a;return new h(a,k)};google.ps===void 0&&(google.ps=[]);function p(){var a=u,b=function(){};google.lx=google.stvsc?b:function(){q(a);google.lx=b};google.bx||google.lx()}function r(a,b){b&&l(a,n(b));var c=a.onload;a.onload=function(d){c&&c(d);google.ps=google.ps.filter(function(B){return a!==B})};google.ps.push(a);document.body.appendChild(a)}google.as=r;function q(a){google.timers&&google.timers.load&&google.tick&&google.tick(\"load\",\"xjsls\");var b=m();b.onerror=function(){google.ple=1};b.onload=function(){google.ple=0};google.xjsus=void 0;r(b,a);google.aple=-1;google.psa=!0};function t(a){var b=a.getAttribute(\"jscontroller\");return(b===\"UBXHI\"||b===\"R3fhkb\"||b===\"TSZEqd\")&&a.hasAttribute(\"data-src\")}for(var w=document.getElementsByTagName(\"img\"),x=0,y=w.length;x<y;++x){var z=w[x];Number(z.getAttribute(\"data-atf\"))&1&&t(z)&&(z.src=z.getAttribute(\"data-src\"))};google.xjsu=u;e._F_jsUrl=u;var A=!1;function C(){A||(p(),A=!0)}\n",
            "setTimeout(function(){google&&google.tick&&google.timers&&google.timers.load&&google.tick(\"load\",\"xjspls\");var a;if(!(a=st!==1||!google.caft||v&&document.visibilityState!==\"visible\"))a:{a=document.getElementsByTagName(\"img\");for(var b=0,c=a.length;b<c;b++){var d=a[b];if(d.hasAttribute(\"data-lzy_\")&&Number(d.getAttribute(\"data-atf\"))&1&&!t(d)){a=!0;break a}}a=!1}a?st!==2||!google.rairicb||v&&document.visibilityState!==\"visible\"?p():(window.setTimeout(C,amd),google.rairicb(C)):(window.setTimeout(C,amd),google.caft(C))},0);})();window._ = window._ || {};window._DumpException = _._DumpException = function(e){throw e;};window._s = window._s || {};_s._DumpException = _._DumpException;window._qs = window._qs || {};_qs._DumpException = _._DumpException;(function(){var t=[1,4,0,0,0,335544320,0,268764160,536985668,524290,268443712,66060360,0,536870912,554041344,136052800,268444606,71200,6016];window._F_toggles = window._xjs_toggles = t;})();function _F_installCss(c){}\n",
            "(function(){google.jl={bfl:0,dw:false,ine:false,ubm:false,uwp:true,vs:false};})();(function(){var pmc='{\\x22d\\x22:{},\\x22sb_he\\x22:{\\x22agen\\x22:false,\\x22cgen\\x22:false,\\x22client\\x22:\\x22heirloom-hp\\x22,\\x22dh\\x22:true,\\x22ds\\x22:\\x22\\x22,\\x22fl\\x22:true,\\x22host\\x22:\\x22google.com\\x22,\\x22jsonp\\x22:true,\\x22msgs\\x22:{\\x22cibl\\x22:\\x22Clear Search\\x22,\\x22dym\\x22:\\x22Did you mean:\\x22,\\x22lcky\\x22:\\x22I\\\\u0026#39;m Feeling Lucky\\x22,\\x22lml\\x22:\\x22Learn more\\x22,\\x22psrc\\x22:\\x22This search was removed from your \\\\u003Ca href\\x3d\\\\\\x22/history\\\\\\x22\\\\u003EWeb History\\\\u003C/a\\\\u003E\\x22,\\x22psrl\\x22:\\x22Remove\\x22,\\x22sbit\\x22:\\x22Search by image\\x22,\\x22srch\\x22:\\x22Google Search\\x22},\\x22ovr\\x22:{},\\x22pq\\x22:\\x22\\x22,\\x22rfs\\x22:[],\\x22sbas\\x22:\\x220 3px 8px 0 rgba(0,0,0,0.2),0 0 0 1px rgba(0,0,0,0.08)\\x22,\\x22stok\\x22:\\x22fenbXx1Ysdd71tTG8LKhLNc-0HM\\x22}}';google.pmc=JSON.parse(pmc);})();(function(){var c=function(a){var b=0;return function(){return b<a.length?{done:!1,value:a[b++]}:{done:!0}}};\n",
            "var e=this||self;var g,h;a:{for(var k=[\"CLOSURE_FLAGS\"],l=e,n=0;n<k.length;n++)if(l=l[k[n]],l==null){h=null;break a}h=l}var p=h&&h[610401301];g=p!=null?p:!1;var q,r=e.navigator;q=r?r.userAgentData||null:null;function t(a){return g?q?q.brands.some(function(b){return(b=b.brand)&&b.indexOf(a)!=-1}):!1:!1}function u(a){var b;a:{if(b=e.navigator)if(b=b.userAgent)break a;b=\"\"}return b.indexOf(a)!=-1};function v(){return g?!!q&&q.brands.length>0:!1}function w(){return u(\"Safari\")&&!(x()||(v()?0:u(\"Coast\"))||(v()?0:u(\"Opera\"))||(v()?0:u(\"Edge\"))||(v()?t(\"Microsoft Edge\"):u(\"Edg/\"))||(v()?t(\"Opera\"):u(\"OPR\"))||u(\"Firefox\")||u(\"FxiOS\")||u(\"Silk\")||u(\"Android\"))}function x(){return v()?t(\"Chromium\"):(u(\"Chrome\")||u(\"CriOS\"))&&!(v()?0:u(\"Edge\"))||u(\"Silk\")}function y(){return u(\"Android\")&&!(x()||u(\"Firefox\")||u(\"FxiOS\")||(v()?0:u(\"Opera\"))||u(\"Silk\"))};var z=v()?!1:u(\"Trident\")||u(\"MSIE\");y();x();w();var A;A=typeof Symbol===\"function\"&&typeof Symbol()===\"symbol\"?Symbol():void 0;var B=[];(A?function(a,b){a[A]=b}:function(a,b){a.g!==void 0?a.g=b:Object.defineProperties(a,{g:{value:b,configurable:!0,writable:!0,enumerable:!1}})})(B,55);Object.freeze(B);var C=function(){};Object.freeze(new function(){});Object.freeze(new C);Object.freeze(new C);Object.freeze({});var D=!z&&!w(),G=function(a){if(/-[a-z]/.test(\"ved\"))return null;if(D&&a.dataset){if(y()&&!(\"ved\"in a.dataset))return null;a=a.dataset.ved;return a===void 0?null:a}return a.getAttribute(\"data-\"+\"ved\".replace(/([A-Z])/g,\"-$1\").toLowerCase())};var H=[],I=null;function J(a){a=a.target;var b=performance.now(),f=[],K=f.concat,d=H;if(!(d instanceof Array)){var m=typeof Symbol!=\"undefined\"&&Symbol.iterator&&d[Symbol.iterator];if(m)d=m.call(d);else if(typeof d.length==\"number\")d={next:c(d)};else throw Error(\"b`\"+String(d));for(var E=[];!(m=d.next()).done;)E.push(m.value);d=E}H=K.call(f,d,[b]);if(a&&a instanceof HTMLElement)if(a===I){if(b=H.length>=4)b=(H[H.length-1]-H[H.length-4])/1E3<5;if(b){b=google.getEI(a);a.hasAttribute(\"data-ved\")?f=a?G(a)||\"\":\"\":f=(f=\n",
            "a.closest(\"[data-ved]\"))?G(f)||\"\":\"\";f=f||\"\";if(a.hasAttribute(\"jsname\"))a=a.getAttribute(\"jsname\");else{var F;a=(F=a.closest(\"[jsname]\"))==null?void 0:F.getAttribute(\"jsname\")}google.log(\"rcm\",\"&ei=\"+b+\"&tgtved=\"+f+\"&jsname=\"+(a||\"\"))}}else I=a,H=[b]}window.document.addEventListener(\"DOMContentLoaded\",function(){document.body.addEventListener(\"click\",J)});}).call(this);</script></body></html>\n"
          ]
        }
      ]
    }
  ]
}